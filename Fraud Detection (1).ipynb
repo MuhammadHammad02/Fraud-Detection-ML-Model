{
 "cells": [
  {
   "cell_type": "code",
   "execution_count": 1,
   "id": "e01a5b66",
   "metadata": {},
   "outputs": [],
   "source": [
    "import numpy as np \n",
    "import pandas as pd\n",
    "import datetime as dt\n",
    "import time\n",
    "import matplotlib.pyplot as pt\n",
    "import copy\n",
    "from sklearn.model_selection import train_test_split\n",
    "from sklearn.linear_model import LinearRegression\n",
    "from sklearn.metrics import accuracy_score\n",
    "from sklearn.metrics import r2_score\n",
    "from sklearn.ensemble import RandomForestRegressor"
   ]
  },
  {
   "cell_type": "code",
   "execution_count": 2,
   "id": "eade14e0",
   "metadata": {},
   "outputs": [],
   "source": [
    "df = pd.read_excel('card transactions.xlsx')"
   ]
  },
  {
   "cell_type": "code",
   "execution_count": 3,
   "id": "e5b82cc7",
   "metadata": {},
   "outputs": [
    {
     "data": {
      "text/html": [
       "<div>\n",
       "<style scoped>\n",
       "    .dataframe tbody tr th:only-of-type {\n",
       "        vertical-align: middle;\n",
       "    }\n",
       "\n",
       "    .dataframe tbody tr th {\n",
       "        vertical-align: top;\n",
       "    }\n",
       "\n",
       "    .dataframe thead th {\n",
       "        text-align: right;\n",
       "    }\n",
       "</style>\n",
       "<table border=\"1\" class=\"dataframe\">\n",
       "  <thead>\n",
       "    <tr style=\"text-align: right;\">\n",
       "      <th></th>\n",
       "      <th>Recnum</th>\n",
       "      <th>Cardnum</th>\n",
       "      <th>Date</th>\n",
       "      <th>Merchnum</th>\n",
       "      <th>Merch description</th>\n",
       "      <th>Merch state</th>\n",
       "      <th>Merch zip</th>\n",
       "      <th>Transtype</th>\n",
       "      <th>Amount</th>\n",
       "      <th>Fraud</th>\n",
       "    </tr>\n",
       "  </thead>\n",
       "  <tbody>\n",
       "    <tr>\n",
       "      <th>0</th>\n",
       "      <td>1</td>\n",
       "      <td>5142190439</td>\n",
       "      <td>2010-01-01</td>\n",
       "      <td>5509006296254</td>\n",
       "      <td>FEDEX SHP 12/23/09 AB#</td>\n",
       "      <td>TN</td>\n",
       "      <td>38118.0</td>\n",
       "      <td>P</td>\n",
       "      <td>3.62</td>\n",
       "      <td>0</td>\n",
       "    </tr>\n",
       "    <tr>\n",
       "      <th>1</th>\n",
       "      <td>2</td>\n",
       "      <td>5142183973</td>\n",
       "      <td>2010-01-01</td>\n",
       "      <td>61003026333</td>\n",
       "      <td>SERVICE MERCHANDISE #81</td>\n",
       "      <td>MA</td>\n",
       "      <td>1803.0</td>\n",
       "      <td>P</td>\n",
       "      <td>31.42</td>\n",
       "      <td>0</td>\n",
       "    </tr>\n",
       "    <tr>\n",
       "      <th>2</th>\n",
       "      <td>3</td>\n",
       "      <td>5142131721</td>\n",
       "      <td>2010-01-01</td>\n",
       "      <td>4503082993600</td>\n",
       "      <td>OFFICE DEPOT #191</td>\n",
       "      <td>MD</td>\n",
       "      <td>20706.0</td>\n",
       "      <td>P</td>\n",
       "      <td>178.49</td>\n",
       "      <td>0</td>\n",
       "    </tr>\n",
       "    <tr>\n",
       "      <th>3</th>\n",
       "      <td>4</td>\n",
       "      <td>5142148452</td>\n",
       "      <td>2010-01-01</td>\n",
       "      <td>5509006296254</td>\n",
       "      <td>FEDEX SHP 12/28/09 AB#</td>\n",
       "      <td>TN</td>\n",
       "      <td>38118.0</td>\n",
       "      <td>P</td>\n",
       "      <td>3.62</td>\n",
       "      <td>0</td>\n",
       "    </tr>\n",
       "    <tr>\n",
       "      <th>4</th>\n",
       "      <td>5</td>\n",
       "      <td>5142190439</td>\n",
       "      <td>2010-01-01</td>\n",
       "      <td>5509006296254</td>\n",
       "      <td>FEDEX SHP 12/23/09 AB#</td>\n",
       "      <td>TN</td>\n",
       "      <td>38118.0</td>\n",
       "      <td>P</td>\n",
       "      <td>3.62</td>\n",
       "      <td>0</td>\n",
       "    </tr>\n",
       "    <tr>\n",
       "      <th>...</th>\n",
       "      <td>...</td>\n",
       "      <td>...</td>\n",
       "      <td>...</td>\n",
       "      <td>...</td>\n",
       "      <td>...</td>\n",
       "      <td>...</td>\n",
       "      <td>...</td>\n",
       "      <td>...</td>\n",
       "      <td>...</td>\n",
       "      <td>...</td>\n",
       "    </tr>\n",
       "    <tr>\n",
       "      <th>96748</th>\n",
       "      <td>96749</td>\n",
       "      <td>5142276053</td>\n",
       "      <td>2010-12-31</td>\n",
       "      <td>3500000006160</td>\n",
       "      <td>BEST BUY      00001610</td>\n",
       "      <td>KY</td>\n",
       "      <td>41042.0</td>\n",
       "      <td>P</td>\n",
       "      <td>84.79</td>\n",
       "      <td>0</td>\n",
       "    </tr>\n",
       "    <tr>\n",
       "      <th>96749</th>\n",
       "      <td>96750</td>\n",
       "      <td>5142225701</td>\n",
       "      <td>2010-12-31</td>\n",
       "      <td>8090710030950</td>\n",
       "      <td>MARKUS OFFICE SUPPLIES</td>\n",
       "      <td>OH</td>\n",
       "      <td>45248.0</td>\n",
       "      <td>P</td>\n",
       "      <td>118.75</td>\n",
       "      <td>0</td>\n",
       "    </tr>\n",
       "    <tr>\n",
       "      <th>96750</th>\n",
       "      <td>96751</td>\n",
       "      <td>5142226486</td>\n",
       "      <td>2010-12-31</td>\n",
       "      <td>4503057341100</td>\n",
       "      <td>TECH PAC, INC</td>\n",
       "      <td>OH</td>\n",
       "      <td>45150.0</td>\n",
       "      <td>P</td>\n",
       "      <td>363.56</td>\n",
       "      <td>0</td>\n",
       "    </tr>\n",
       "    <tr>\n",
       "      <th>96751</th>\n",
       "      <td>96752</td>\n",
       "      <td>5142244619</td>\n",
       "      <td>2010-12-31</td>\n",
       "      <td>8834000695412</td>\n",
       "      <td>BUY.COM</td>\n",
       "      <td>CA</td>\n",
       "      <td>92656.0</td>\n",
       "      <td>P</td>\n",
       "      <td>2202.03</td>\n",
       "      <td>0</td>\n",
       "    </tr>\n",
       "    <tr>\n",
       "      <th>96752</th>\n",
       "      <td>96753</td>\n",
       "      <td>5142243247</td>\n",
       "      <td>2010-12-31</td>\n",
       "      <td>9108347680006</td>\n",
       "      <td>STAPLES NATIONAL #471</td>\n",
       "      <td>NJ</td>\n",
       "      <td>7606.0</td>\n",
       "      <td>P</td>\n",
       "      <td>554.64</td>\n",
       "      <td>0</td>\n",
       "    </tr>\n",
       "  </tbody>\n",
       "</table>\n",
       "<p>96753 rows × 10 columns</p>\n",
       "</div>"
      ],
      "text/plain": [
       "       Recnum     Cardnum       Date       Merchnum        Merch description  \\\n",
       "0           1  5142190439 2010-01-01  5509006296254   FEDEX SHP 12/23/09 AB#   \n",
       "1           2  5142183973 2010-01-01    61003026333  SERVICE MERCHANDISE #81   \n",
       "2           3  5142131721 2010-01-01  4503082993600        OFFICE DEPOT #191   \n",
       "3           4  5142148452 2010-01-01  5509006296254   FEDEX SHP 12/28/09 AB#   \n",
       "4           5  5142190439 2010-01-01  5509006296254   FEDEX SHP 12/23/09 AB#   \n",
       "...       ...         ...        ...            ...                      ...   \n",
       "96748   96749  5142276053 2010-12-31  3500000006160   BEST BUY      00001610   \n",
       "96749   96750  5142225701 2010-12-31  8090710030950   MARKUS OFFICE SUPPLIES   \n",
       "96750   96751  5142226486 2010-12-31  4503057341100            TECH PAC, INC   \n",
       "96751   96752  5142244619 2010-12-31  8834000695412                  BUY.COM   \n",
       "96752   96753  5142243247 2010-12-31  9108347680006    STAPLES NATIONAL #471   \n",
       "\n",
       "      Merch state  Merch zip Transtype   Amount  Fraud  \n",
       "0              TN    38118.0         P     3.62      0  \n",
       "1              MA     1803.0         P    31.42      0  \n",
       "2              MD    20706.0         P   178.49      0  \n",
       "3              TN    38118.0         P     3.62      0  \n",
       "4              TN    38118.0         P     3.62      0  \n",
       "...           ...        ...       ...      ...    ...  \n",
       "96748          KY    41042.0         P    84.79      0  \n",
       "96749          OH    45248.0         P   118.75      0  \n",
       "96750          OH    45150.0         P   363.56      0  \n",
       "96751          CA    92656.0         P  2202.03      0  \n",
       "96752          NJ     7606.0         P   554.64      0  \n",
       "\n",
       "[96753 rows x 10 columns]"
      ]
     },
     "execution_count": 3,
     "metadata": {},
     "output_type": "execute_result"
    }
   ],
   "source": [
    "df"
   ]
  },
  {
   "cell_type": "code",
   "execution_count": 4,
   "id": "b151760c",
   "metadata": {},
   "outputs": [
    {
     "data": {
      "text/html": [
       "<div>\n",
       "<style scoped>\n",
       "    .dataframe tbody tr th:only-of-type {\n",
       "        vertical-align: middle;\n",
       "    }\n",
       "\n",
       "    .dataframe tbody tr th {\n",
       "        vertical-align: top;\n",
       "    }\n",
       "\n",
       "    .dataframe thead th {\n",
       "        text-align: right;\n",
       "    }\n",
       "</style>\n",
       "<table border=\"1\" class=\"dataframe\">\n",
       "  <thead>\n",
       "    <tr style=\"text-align: right;\">\n",
       "      <th></th>\n",
       "      <th>Recnum</th>\n",
       "      <th>Cardnum</th>\n",
       "      <th>Date</th>\n",
       "      <th>Merchnum</th>\n",
       "      <th>Merch description</th>\n",
       "      <th>Merch state</th>\n",
       "      <th>Merch zip</th>\n",
       "      <th>Transtype</th>\n",
       "      <th>Amount</th>\n",
       "      <th>Fraud</th>\n",
       "    </tr>\n",
       "  </thead>\n",
       "  <tbody>\n",
       "    <tr>\n",
       "      <th>0</th>\n",
       "      <td>1</td>\n",
       "      <td>5142190439</td>\n",
       "      <td>2010-01-01</td>\n",
       "      <td>5509006296254</td>\n",
       "      <td>FEDEX SHP 12/23/09 AB#</td>\n",
       "      <td>TN</td>\n",
       "      <td>38118.0</td>\n",
       "      <td>P</td>\n",
       "      <td>3.62</td>\n",
       "      <td>0</td>\n",
       "    </tr>\n",
       "    <tr>\n",
       "      <th>1</th>\n",
       "      <td>2</td>\n",
       "      <td>5142183973</td>\n",
       "      <td>2010-01-01</td>\n",
       "      <td>61003026333</td>\n",
       "      <td>SERVICE MERCHANDISE #81</td>\n",
       "      <td>MA</td>\n",
       "      <td>1803.0</td>\n",
       "      <td>P</td>\n",
       "      <td>31.42</td>\n",
       "      <td>0</td>\n",
       "    </tr>\n",
       "    <tr>\n",
       "      <th>2</th>\n",
       "      <td>3</td>\n",
       "      <td>5142131721</td>\n",
       "      <td>2010-01-01</td>\n",
       "      <td>4503082993600</td>\n",
       "      <td>OFFICE DEPOT #191</td>\n",
       "      <td>MD</td>\n",
       "      <td>20706.0</td>\n",
       "      <td>P</td>\n",
       "      <td>178.49</td>\n",
       "      <td>0</td>\n",
       "    </tr>\n",
       "    <tr>\n",
       "      <th>3</th>\n",
       "      <td>4</td>\n",
       "      <td>5142148452</td>\n",
       "      <td>2010-01-01</td>\n",
       "      <td>5509006296254</td>\n",
       "      <td>FEDEX SHP 12/28/09 AB#</td>\n",
       "      <td>TN</td>\n",
       "      <td>38118.0</td>\n",
       "      <td>P</td>\n",
       "      <td>3.62</td>\n",
       "      <td>0</td>\n",
       "    </tr>\n",
       "    <tr>\n",
       "      <th>4</th>\n",
       "      <td>5</td>\n",
       "      <td>5142190439</td>\n",
       "      <td>2010-01-01</td>\n",
       "      <td>5509006296254</td>\n",
       "      <td>FEDEX SHP 12/23/09 AB#</td>\n",
       "      <td>TN</td>\n",
       "      <td>38118.0</td>\n",
       "      <td>P</td>\n",
       "      <td>3.62</td>\n",
       "      <td>0</td>\n",
       "    </tr>\n",
       "  </tbody>\n",
       "</table>\n",
       "</div>"
      ],
      "text/plain": [
       "   Recnum     Cardnum       Date       Merchnum        Merch description  \\\n",
       "0       1  5142190439 2010-01-01  5509006296254   FEDEX SHP 12/23/09 AB#   \n",
       "1       2  5142183973 2010-01-01    61003026333  SERVICE MERCHANDISE #81   \n",
       "2       3  5142131721 2010-01-01  4503082993600        OFFICE DEPOT #191   \n",
       "3       4  5142148452 2010-01-01  5509006296254   FEDEX SHP 12/28/09 AB#   \n",
       "4       5  5142190439 2010-01-01  5509006296254   FEDEX SHP 12/23/09 AB#   \n",
       "\n",
       "  Merch state  Merch zip Transtype  Amount  Fraud  \n",
       "0          TN    38118.0         P    3.62      0  \n",
       "1          MA     1803.0         P   31.42      0  \n",
       "2          MD    20706.0         P  178.49      0  \n",
       "3          TN    38118.0         P    3.62      0  \n",
       "4          TN    38118.0         P    3.62      0  "
      ]
     },
     "execution_count": 4,
     "metadata": {},
     "output_type": "execute_result"
    }
   ],
   "source": [
    "df.head()"
   ]
  },
  {
   "cell_type": "code",
   "execution_count": 5,
   "id": "471c18b6",
   "metadata": {},
   "outputs": [
    {
     "data": {
      "text/html": [
       "<div>\n",
       "<style scoped>\n",
       "    .dataframe tbody tr th:only-of-type {\n",
       "        vertical-align: middle;\n",
       "    }\n",
       "\n",
       "    .dataframe tbody tr th {\n",
       "        vertical-align: top;\n",
       "    }\n",
       "\n",
       "    .dataframe thead th {\n",
       "        text-align: right;\n",
       "    }\n",
       "</style>\n",
       "<table border=\"1\" class=\"dataframe\">\n",
       "  <thead>\n",
       "    <tr style=\"text-align: right;\">\n",
       "      <th></th>\n",
       "      <th>Recnum</th>\n",
       "      <th>Cardnum</th>\n",
       "      <th>Date</th>\n",
       "      <th>Merchnum</th>\n",
       "      <th>Merch description</th>\n",
       "      <th>Merch state</th>\n",
       "      <th>Merch zip</th>\n",
       "      <th>Transtype</th>\n",
       "      <th>Amount</th>\n",
       "      <th>Fraud</th>\n",
       "    </tr>\n",
       "  </thead>\n",
       "  <tbody>\n",
       "    <tr>\n",
       "      <th>96748</th>\n",
       "      <td>96749</td>\n",
       "      <td>5142276053</td>\n",
       "      <td>2010-12-31</td>\n",
       "      <td>3500000006160</td>\n",
       "      <td>BEST BUY      00001610</td>\n",
       "      <td>KY</td>\n",
       "      <td>41042.0</td>\n",
       "      <td>P</td>\n",
       "      <td>84.79</td>\n",
       "      <td>0</td>\n",
       "    </tr>\n",
       "    <tr>\n",
       "      <th>96749</th>\n",
       "      <td>96750</td>\n",
       "      <td>5142225701</td>\n",
       "      <td>2010-12-31</td>\n",
       "      <td>8090710030950</td>\n",
       "      <td>MARKUS OFFICE SUPPLIES</td>\n",
       "      <td>OH</td>\n",
       "      <td>45248.0</td>\n",
       "      <td>P</td>\n",
       "      <td>118.75</td>\n",
       "      <td>0</td>\n",
       "    </tr>\n",
       "    <tr>\n",
       "      <th>96750</th>\n",
       "      <td>96751</td>\n",
       "      <td>5142226486</td>\n",
       "      <td>2010-12-31</td>\n",
       "      <td>4503057341100</td>\n",
       "      <td>TECH PAC, INC</td>\n",
       "      <td>OH</td>\n",
       "      <td>45150.0</td>\n",
       "      <td>P</td>\n",
       "      <td>363.56</td>\n",
       "      <td>0</td>\n",
       "    </tr>\n",
       "    <tr>\n",
       "      <th>96751</th>\n",
       "      <td>96752</td>\n",
       "      <td>5142244619</td>\n",
       "      <td>2010-12-31</td>\n",
       "      <td>8834000695412</td>\n",
       "      <td>BUY.COM</td>\n",
       "      <td>CA</td>\n",
       "      <td>92656.0</td>\n",
       "      <td>P</td>\n",
       "      <td>2202.03</td>\n",
       "      <td>0</td>\n",
       "    </tr>\n",
       "    <tr>\n",
       "      <th>96752</th>\n",
       "      <td>96753</td>\n",
       "      <td>5142243247</td>\n",
       "      <td>2010-12-31</td>\n",
       "      <td>9108347680006</td>\n",
       "      <td>STAPLES NATIONAL #471</td>\n",
       "      <td>NJ</td>\n",
       "      <td>7606.0</td>\n",
       "      <td>P</td>\n",
       "      <td>554.64</td>\n",
       "      <td>0</td>\n",
       "    </tr>\n",
       "  </tbody>\n",
       "</table>\n",
       "</div>"
      ],
      "text/plain": [
       "       Recnum     Cardnum       Date       Merchnum       Merch description  \\\n",
       "96748   96749  5142276053 2010-12-31  3500000006160  BEST BUY      00001610   \n",
       "96749   96750  5142225701 2010-12-31  8090710030950  MARKUS OFFICE SUPPLIES   \n",
       "96750   96751  5142226486 2010-12-31  4503057341100           TECH PAC, INC   \n",
       "96751   96752  5142244619 2010-12-31  8834000695412                 BUY.COM   \n",
       "96752   96753  5142243247 2010-12-31  9108347680006   STAPLES NATIONAL #471   \n",
       "\n",
       "      Merch state  Merch zip Transtype   Amount  Fraud  \n",
       "96748          KY    41042.0         P    84.79      0  \n",
       "96749          OH    45248.0         P   118.75      0  \n",
       "96750          OH    45150.0         P   363.56      0  \n",
       "96751          CA    92656.0         P  2202.03      0  \n",
       "96752          NJ     7606.0         P   554.64      0  "
      ]
     },
     "execution_count": 5,
     "metadata": {},
     "output_type": "execute_result"
    }
   ],
   "source": [
    "df.tail()"
   ]
  },
  {
   "cell_type": "code",
   "execution_count": 6,
   "id": "92a7aae6",
   "metadata": {},
   "outputs": [
    {
     "data": {
      "text/html": [
       "<div>\n",
       "<style scoped>\n",
       "    .dataframe tbody tr th:only-of-type {\n",
       "        vertical-align: middle;\n",
       "    }\n",
       "\n",
       "    .dataframe tbody tr th {\n",
       "        vertical-align: top;\n",
       "    }\n",
       "\n",
       "    .dataframe thead th {\n",
       "        text-align: right;\n",
       "    }\n",
       "</style>\n",
       "<table border=\"1\" class=\"dataframe\">\n",
       "  <thead>\n",
       "    <tr style=\"text-align: right;\">\n",
       "      <th></th>\n",
       "      <th>Recnum</th>\n",
       "      <th>Cardnum</th>\n",
       "      <th>Date</th>\n",
       "      <th>Merchnum</th>\n",
       "      <th>Merch description</th>\n",
       "      <th>Merch state</th>\n",
       "      <th>Merch zip</th>\n",
       "      <th>Transtype</th>\n",
       "      <th>Amount</th>\n",
       "      <th>Fraud</th>\n",
       "    </tr>\n",
       "  </thead>\n",
       "  <tbody>\n",
       "    <tr>\n",
       "      <th>29384</th>\n",
       "      <td>29385</td>\n",
       "      <td>5142253315</td>\n",
       "      <td>2010-04-21</td>\n",
       "      <td>9900000030406</td>\n",
       "      <td>GSA/CUST SUPPLY CTR 90</td>\n",
       "      <td>WA</td>\n",
       "      <td>98001.0</td>\n",
       "      <td>P</td>\n",
       "      <td>77.22</td>\n",
       "      <td>0</td>\n",
       "    </tr>\n",
       "    <tr>\n",
       "      <th>35667</th>\n",
       "      <td>35668</td>\n",
       "      <td>5142273878</td>\n",
       "      <td>2010-05-13</td>\n",
       "      <td>930090121224</td>\n",
       "      <td>FEDEX SHP 05/04/10 AB#</td>\n",
       "      <td>TN</td>\n",
       "      <td>38118.0</td>\n",
       "      <td>P</td>\n",
       "      <td>8.31</td>\n",
       "      <td>0</td>\n",
       "    </tr>\n",
       "    <tr>\n",
       "      <th>25767</th>\n",
       "      <td>25768</td>\n",
       "      <td>5142265645</td>\n",
       "      <td>2010-04-07</td>\n",
       "      <td>970902100226</td>\n",
       "      <td>VHG LABS INC</td>\n",
       "      <td>NH</td>\n",
       "      <td>3109.0</td>\n",
       "      <td>P</td>\n",
       "      <td>417.05</td>\n",
       "      <td>0</td>\n",
       "    </tr>\n",
       "    <tr>\n",
       "      <th>7072</th>\n",
       "      <td>7073</td>\n",
       "      <td>5142295024</td>\n",
       "      <td>2010-02-01</td>\n",
       "      <td>5509006296254</td>\n",
       "      <td>FEDEX SHP 01/25/10 AB#</td>\n",
       "      <td>TN</td>\n",
       "      <td>38118.0</td>\n",
       "      <td>P</td>\n",
       "      <td>3.62</td>\n",
       "      <td>0</td>\n",
       "    </tr>\n",
       "    <tr>\n",
       "      <th>36507</th>\n",
       "      <td>36508</td>\n",
       "      <td>5142276306</td>\n",
       "      <td>2010-05-16</td>\n",
       "      <td>410000971343</td>\n",
       "      <td>SIGMA-ALDRICH</td>\n",
       "      <td>MO</td>\n",
       "      <td>63103.0</td>\n",
       "      <td>P</td>\n",
       "      <td>14.63</td>\n",
       "      <td>0</td>\n",
       "    </tr>\n",
       "    <tr>\n",
       "      <th>82809</th>\n",
       "      <td>82810</td>\n",
       "      <td>5142158538</td>\n",
       "      <td>2010-10-22</td>\n",
       "      <td>4353000719908</td>\n",
       "      <td>ACI*AMAZON.COM INC</td>\n",
       "      <td>WA</td>\n",
       "      <td>98101.0</td>\n",
       "      <td>P</td>\n",
       "      <td>397.87</td>\n",
       "      <td>0</td>\n",
       "    </tr>\n",
       "    <tr>\n",
       "      <th>43270</th>\n",
       "      <td>43271</td>\n",
       "      <td>5142180432</td>\n",
       "      <td>2010-06-08</td>\n",
       "      <td>8078200641472</td>\n",
       "      <td>NEWSLIBRARY</td>\n",
       "      <td>PA</td>\n",
       "      <td>19103.0</td>\n",
       "      <td>P</td>\n",
       "      <td>1.95</td>\n",
       "      <td>0</td>\n",
       "    </tr>\n",
       "    <tr>\n",
       "      <th>35252</th>\n",
       "      <td>35253</td>\n",
       "      <td>5142189108</td>\n",
       "      <td>2010-05-12</td>\n",
       "      <td>4353000719908</td>\n",
       "      <td>AMAZON.COM  *SUPERSTOR</td>\n",
       "      <td>WA</td>\n",
       "      <td>98101.0</td>\n",
       "      <td>P</td>\n",
       "      <td>53.94</td>\n",
       "      <td>0</td>\n",
       "    </tr>\n",
       "    <tr>\n",
       "      <th>77387</th>\n",
       "      <td>77388</td>\n",
       "      <td>5142138263</td>\n",
       "      <td>2010-09-26</td>\n",
       "      <td>4503082476300</td>\n",
       "      <td>OFFICE DEPOT #1082</td>\n",
       "      <td>MD</td>\n",
       "      <td>20763.0</td>\n",
       "      <td>P</td>\n",
       "      <td>60.80</td>\n",
       "      <td>0</td>\n",
       "    </tr>\n",
       "    <tr>\n",
       "      <th>88751</th>\n",
       "      <td>88752</td>\n",
       "      <td>5142196870</td>\n",
       "      <td>2010-11-22</td>\n",
       "      <td>48163715970</td>\n",
       "      <td>WAYNE'S DRY CLEANERS</td>\n",
       "      <td>NC</td>\n",
       "      <td>27514.0</td>\n",
       "      <td>P</td>\n",
       "      <td>75.30</td>\n",
       "      <td>0</td>\n",
       "    </tr>\n",
       "  </tbody>\n",
       "</table>\n",
       "</div>"
      ],
      "text/plain": [
       "       Recnum     Cardnum       Date       Merchnum       Merch description  \\\n",
       "29384   29385  5142253315 2010-04-21  9900000030406  GSA/CUST SUPPLY CTR 90   \n",
       "35667   35668  5142273878 2010-05-13   930090121224  FEDEX SHP 05/04/10 AB#   \n",
       "25767   25768  5142265645 2010-04-07   970902100226            VHG LABS INC   \n",
       "7072     7073  5142295024 2010-02-01  5509006296254  FEDEX SHP 01/25/10 AB#   \n",
       "36507   36508  5142276306 2010-05-16   410000971343           SIGMA-ALDRICH   \n",
       "82809   82810  5142158538 2010-10-22  4353000719908      ACI*AMAZON.COM INC   \n",
       "43270   43271  5142180432 2010-06-08  8078200641472             NEWSLIBRARY   \n",
       "35252   35253  5142189108 2010-05-12  4353000719908  AMAZON.COM  *SUPERSTOR   \n",
       "77387   77388  5142138263 2010-09-26  4503082476300      OFFICE DEPOT #1082   \n",
       "88751   88752  5142196870 2010-11-22    48163715970    WAYNE'S DRY CLEANERS   \n",
       "\n",
       "      Merch state  Merch zip Transtype  Amount  Fraud  \n",
       "29384          WA    98001.0         P   77.22      0  \n",
       "35667          TN    38118.0         P    8.31      0  \n",
       "25767          NH     3109.0         P  417.05      0  \n",
       "7072           TN    38118.0         P    3.62      0  \n",
       "36507          MO    63103.0         P   14.63      0  \n",
       "82809          WA    98101.0         P  397.87      0  \n",
       "43270          PA    19103.0         P    1.95      0  \n",
       "35252          WA    98101.0         P   53.94      0  \n",
       "77387          MD    20763.0         P   60.80      0  \n",
       "88751          NC    27514.0         P   75.30      0  "
      ]
     },
     "execution_count": 6,
     "metadata": {},
     "output_type": "execute_result"
    }
   ],
   "source": [
    "df.sample(10)"
   ]
  },
  {
   "cell_type": "code",
   "execution_count": 7,
   "id": "b2e7bfbc",
   "metadata": {},
   "outputs": [
    {
     "data": {
      "text/plain": [
       "(96753, 10)"
      ]
     },
     "execution_count": 7,
     "metadata": {},
     "output_type": "execute_result"
    }
   ],
   "source": [
    "df.shape"
   ]
  },
  {
   "cell_type": "markdown",
   "id": "779ade20",
   "metadata": {},
   "source": [
    "Remove all records that do not have a value of \"P\" in the Transtype data field.\n",
    "\n"
   ]
  },
  {
   "cell_type": "code",
   "execution_count": 8,
   "id": "772dbf80",
   "metadata": {},
   "outputs": [
    {
     "name": "stdout",
     "output_type": "stream",
     "text": [
      "96398\n"
     ]
    }
   ],
   "source": [
    "df_P = df.loc[df['Transtype'] == 'P']\n",
    "print(len(df_P))"
   ]
  },
  {
   "cell_type": "code",
   "execution_count": 9,
   "id": "7a859bbf",
   "metadata": {},
   "outputs": [
    {
     "data": {
      "text/plain": [
       "Index(['Recnum', 'Cardnum', 'Date', 'Merchnum', 'Merch description',\n",
       "       'Merch state', 'Merch zip', 'Transtype', 'Amount', 'Fraud'],\n",
       "      dtype='object')"
      ]
     },
     "execution_count": 9,
     "metadata": {},
     "output_type": "execute_result"
    }
   ],
   "source": [
    "df.columns"
   ]
  },
  {
   "cell_type": "code",
   "execution_count": 10,
   "id": "9f6dddde",
   "metadata": {},
   "outputs": [
    {
     "data": {
      "text/plain": [
       "Recnum                        int64\n",
       "Cardnum                       int64\n",
       "Date                 datetime64[ns]\n",
       "Merchnum                     object\n",
       "Merch description            object\n",
       "Merch state                  object\n",
       "Merch zip                   float64\n",
       "Transtype                    object\n",
       "Amount                      float64\n",
       "Fraud                         int64\n",
       "dtype: object"
      ]
     },
     "execution_count": 10,
     "metadata": {},
     "output_type": "execute_result"
    }
   ],
   "source": [
    "df.dtypes"
   ]
  },
  {
   "cell_type": "code",
   "execution_count": 11,
   "id": "6c295e3b",
   "metadata": {},
   "outputs": [
    {
     "data": {
      "text/plain": [
       "Recnum               False\n",
       "Cardnum              False\n",
       "Date                 False\n",
       "Merchnum              True\n",
       "Merch description    False\n",
       "Merch state           True\n",
       "Merch zip             True\n",
       "Transtype            False\n",
       "Amount               False\n",
       "Fraud                False\n",
       "dtype: bool"
      ]
     },
     "execution_count": 11,
     "metadata": {},
     "output_type": "execute_result"
    }
   ],
   "source": [
    "df.isnull().any()"
   ]
  },
  {
   "cell_type": "code",
   "execution_count": 12,
   "id": "1497fc39",
   "metadata": {},
   "outputs": [
    {
     "name": "stdout",
     "output_type": "stream",
     "text": [
      "<class 'pandas.core.frame.DataFrame'>\n",
      "RangeIndex: 96753 entries, 0 to 96752\n",
      "Data columns (total 10 columns):\n",
      " #   Column             Non-Null Count  Dtype         \n",
      "---  ------             --------------  -----         \n",
      " 0   Recnum             96753 non-null  int64         \n",
      " 1   Cardnum            96753 non-null  int64         \n",
      " 2   Date               96753 non-null  datetime64[ns]\n",
      " 3   Merchnum           93378 non-null  object        \n",
      " 4   Merch description  96753 non-null  object        \n",
      " 5   Merch state        95558 non-null  object        \n",
      " 6   Merch zip          92097 non-null  float64       \n",
      " 7   Transtype          96753 non-null  object        \n",
      " 8   Amount             96753 non-null  float64       \n",
      " 9   Fraud              96753 non-null  int64         \n",
      "dtypes: datetime64[ns](1), float64(2), int64(3), object(4)\n",
      "memory usage: 7.4+ MB\n"
     ]
    }
   ],
   "source": [
    "df.info()"
   ]
  },
  {
   "cell_type": "code",
   "execution_count": 13,
   "id": "9c55d082",
   "metadata": {},
   "outputs": [
    {
     "data": {
      "text/plain": [
       "array(['P', 'D', 'A', 'Y'], dtype=object)"
      ]
     },
     "execution_count": 13,
     "metadata": {},
     "output_type": "execute_result"
    }
   ],
   "source": [
    "df.Transtype.unique()"
   ]
  },
  {
   "cell_type": "markdown",
   "id": "dc34bf4c",
   "metadata": {},
   "source": [
    "Remove all records that do not have a value of \"P\" in the Transtype data field.\n",
    "\n"
   ]
  },
  {
   "cell_type": "code",
   "execution_count": 14,
   "id": "e39bb567",
   "metadata": {},
   "outputs": [
    {
     "name": "stdout",
     "output_type": "stream",
     "text": [
      "96398\n"
     ]
    },
    {
     "data": {
      "text/html": [
       "<div>\n",
       "<style scoped>\n",
       "    .dataframe tbody tr th:only-of-type {\n",
       "        vertical-align: middle;\n",
       "    }\n",
       "\n",
       "    .dataframe tbody tr th {\n",
       "        vertical-align: top;\n",
       "    }\n",
       "\n",
       "    .dataframe thead th {\n",
       "        text-align: right;\n",
       "    }\n",
       "</style>\n",
       "<table border=\"1\" class=\"dataframe\">\n",
       "  <thead>\n",
       "    <tr style=\"text-align: right;\">\n",
       "      <th></th>\n",
       "      <th>Recnum</th>\n",
       "      <th>Cardnum</th>\n",
       "      <th>Date</th>\n",
       "      <th>Merchnum</th>\n",
       "      <th>Merch description</th>\n",
       "      <th>Merch state</th>\n",
       "      <th>Merch zip</th>\n",
       "      <th>Transtype</th>\n",
       "      <th>Amount</th>\n",
       "      <th>Fraud</th>\n",
       "    </tr>\n",
       "  </thead>\n",
       "  <tbody>\n",
       "    <tr>\n",
       "      <th>0</th>\n",
       "      <td>1</td>\n",
       "      <td>5142190439</td>\n",
       "      <td>2010-01-01</td>\n",
       "      <td>5509006296254</td>\n",
       "      <td>FEDEX SHP 12/23/09 AB#</td>\n",
       "      <td>TN</td>\n",
       "      <td>38118.0</td>\n",
       "      <td>P</td>\n",
       "      <td>3.62</td>\n",
       "      <td>0</td>\n",
       "    </tr>\n",
       "    <tr>\n",
       "      <th>1</th>\n",
       "      <td>2</td>\n",
       "      <td>5142183973</td>\n",
       "      <td>2010-01-01</td>\n",
       "      <td>61003026333</td>\n",
       "      <td>SERVICE MERCHANDISE #81</td>\n",
       "      <td>MA</td>\n",
       "      <td>1803.0</td>\n",
       "      <td>P</td>\n",
       "      <td>31.42</td>\n",
       "      <td>0</td>\n",
       "    </tr>\n",
       "    <tr>\n",
       "      <th>2</th>\n",
       "      <td>3</td>\n",
       "      <td>5142131721</td>\n",
       "      <td>2010-01-01</td>\n",
       "      <td>4503082993600</td>\n",
       "      <td>OFFICE DEPOT #191</td>\n",
       "      <td>MD</td>\n",
       "      <td>20706.0</td>\n",
       "      <td>P</td>\n",
       "      <td>178.49</td>\n",
       "      <td>0</td>\n",
       "    </tr>\n",
       "    <tr>\n",
       "      <th>3</th>\n",
       "      <td>4</td>\n",
       "      <td>5142148452</td>\n",
       "      <td>2010-01-01</td>\n",
       "      <td>5509006296254</td>\n",
       "      <td>FEDEX SHP 12/28/09 AB#</td>\n",
       "      <td>TN</td>\n",
       "      <td>38118.0</td>\n",
       "      <td>P</td>\n",
       "      <td>3.62</td>\n",
       "      <td>0</td>\n",
       "    </tr>\n",
       "    <tr>\n",
       "      <th>4</th>\n",
       "      <td>5</td>\n",
       "      <td>5142190439</td>\n",
       "      <td>2010-01-01</td>\n",
       "      <td>5509006296254</td>\n",
       "      <td>FEDEX SHP 12/23/09 AB#</td>\n",
       "      <td>TN</td>\n",
       "      <td>38118.0</td>\n",
       "      <td>P</td>\n",
       "      <td>3.62</td>\n",
       "      <td>0</td>\n",
       "    </tr>\n",
       "  </tbody>\n",
       "</table>\n",
       "</div>"
      ],
      "text/plain": [
       "   Recnum     Cardnum       Date       Merchnum        Merch description  \\\n",
       "0       1  5142190439 2010-01-01  5509006296254   FEDEX SHP 12/23/09 AB#   \n",
       "1       2  5142183973 2010-01-01    61003026333  SERVICE MERCHANDISE #81   \n",
       "2       3  5142131721 2010-01-01  4503082993600        OFFICE DEPOT #191   \n",
       "3       4  5142148452 2010-01-01  5509006296254   FEDEX SHP 12/28/09 AB#   \n",
       "4       5  5142190439 2010-01-01  5509006296254   FEDEX SHP 12/23/09 AB#   \n",
       "\n",
       "  Merch state  Merch zip Transtype  Amount  Fraud  \n",
       "0          TN    38118.0         P    3.62      0  \n",
       "1          MA     1803.0         P   31.42      0  \n",
       "2          MD    20706.0         P  178.49      0  \n",
       "3          TN    38118.0         P    3.62      0  \n",
       "4          TN    38118.0         P    3.62      0  "
      ]
     },
     "execution_count": 14,
     "metadata": {},
     "output_type": "execute_result"
    }
   ],
   "source": [
    "df_P = df.loc[df['Transtype'] == 'P']\n",
    "print(len(df_P))\n",
    "df_P.head()"
   ]
  },
  {
   "cell_type": "code",
   "execution_count": 15,
   "id": "10a62d24",
   "metadata": {},
   "outputs": [
    {
     "data": {
      "text/plain": [
       "<DatetimeArray>\n",
       "['2010-01-01 00:00:00', '2010-01-02 00:00:00', '2010-01-03 00:00:00',\n",
       " '2010-01-04 00:00:00', '2010-01-05 00:00:00', '2010-01-06 00:00:00',\n",
       " '2010-01-07 00:00:00', '2010-01-08 00:00:00', '2010-01-09 00:00:00',\n",
       " '2010-01-10 00:00:00',\n",
       " ...\n",
       " '2010-12-22 00:00:00', '2010-12-23 00:00:00', '2010-12-24 00:00:00',\n",
       " '2010-12-25 00:00:00', '2010-12-26 00:00:00', '2010-12-27 00:00:00',\n",
       " '2010-12-28 00:00:00', '2010-12-29 00:00:00', '2010-12-30 00:00:00',\n",
       " '2010-12-31 00:00:00']\n",
       "Length: 365, dtype: datetime64[ns]"
      ]
     },
     "execution_count": 15,
     "metadata": {},
     "output_type": "execute_result"
    }
   ],
   "source": [
    "df.Date.unique()"
   ]
  },
  {
   "cell_type": "code",
   "execution_count": 16,
   "id": "4fa141eb",
   "metadata": {},
   "outputs": [
    {
     "data": {
      "text/plain": [
       "Recnum                  0\n",
       "Cardnum                 0\n",
       "Date                    0\n",
       "Merchnum             3375\n",
       "Merch description       0\n",
       "Merch state          1195\n",
       "Merch zip            4656\n",
       "Transtype               0\n",
       "Amount                  0\n",
       "Fraud                   0\n",
       "dtype: int64"
      ]
     },
     "execution_count": 16,
     "metadata": {},
     "output_type": "execute_result"
    }
   ],
   "source": [
    "df.isnull().sum()"
   ]
  },
  {
   "cell_type": "code",
   "execution_count": 17,
   "id": "cc455a9e",
   "metadata": {},
   "outputs": [],
   "source": [
    "df.dropna(inplace=True)"
   ]
  },
  {
   "cell_type": "code",
   "execution_count": 18,
   "id": "ba63bd2b",
   "metadata": {},
   "outputs": [
    {
     "name": "stdout",
     "output_type": "stream",
     "text": [
      "<class 'pandas.core.frame.DataFrame'>\n",
      "Index: 90198 entries, 0 to 96752\n",
      "Data columns (total 10 columns):\n",
      " #   Column             Non-Null Count  Dtype         \n",
      "---  ------             --------------  -----         \n",
      " 0   Recnum             90198 non-null  int64         \n",
      " 1   Cardnum            90198 non-null  int64         \n",
      " 2   Date               90198 non-null  datetime64[ns]\n",
      " 3   Merchnum           90198 non-null  object        \n",
      " 4   Merch description  90198 non-null  object        \n",
      " 5   Merch state        90198 non-null  object        \n",
      " 6   Merch zip          90198 non-null  float64       \n",
      " 7   Transtype          90198 non-null  object        \n",
      " 8   Amount             90198 non-null  float64       \n",
      " 9   Fraud              90198 non-null  int64         \n",
      "dtypes: datetime64[ns](1), float64(2), int64(3), object(4)\n",
      "memory usage: 7.6+ MB\n"
     ]
    }
   ],
   "source": [
    "df.info()"
   ]
  },
  {
   "cell_type": "code",
   "execution_count": 19,
   "id": "1157bc9e",
   "metadata": {},
   "outputs": [
    {
     "data": {
      "text/plain": [
       "Recnum               0\n",
       "Cardnum              0\n",
       "Date                 0\n",
       "Merchnum             0\n",
       "Merch description    0\n",
       "Merch state          0\n",
       "Merch zip            0\n",
       "Transtype            0\n",
       "Amount               0\n",
       "Fraud                0\n",
       "dtype: int64"
      ]
     },
     "execution_count": 19,
     "metadata": {},
     "output_type": "execute_result"
    }
   ],
   "source": [
    "df.isnull().sum()"
   ]
  },
  {
   "cell_type": "code",
   "execution_count": 20,
   "id": "cba15faa",
   "metadata": {},
   "outputs": [
    {
     "data": {
      "text/plain": [
       "0"
      ]
     },
     "execution_count": 20,
     "metadata": {},
     "output_type": "execute_result"
    }
   ],
   "source": [
    "df.duplicated().sum()"
   ]
  },
  {
   "cell_type": "code",
   "execution_count": 21,
   "id": "9c6f3a43",
   "metadata": {},
   "outputs": [
    {
     "data": {
      "text/plain": [
       "array([5142190439, 5142183973, 5142131721, ..., 5142164092, 5142193886,\n",
       "       5142195065], dtype=int64)"
      ]
     },
     "execution_count": 21,
     "metadata": {},
     "output_type": "execute_result"
    }
   ],
   "source": [
    "df.Cardnum.unique()"
   ]
  },
  {
   "cell_type": "code",
   "execution_count": 22,
   "id": "0a14c073",
   "metadata": {},
   "outputs": [
    {
     "data": {
      "text/plain": [
       "array(['5509006296254', '61003026333', '4503082993600', ...,\n",
       "       '4503092553800', '3500000004991', '3500000006160'], dtype=object)"
      ]
     },
     "execution_count": 22,
     "metadata": {},
     "output_type": "execute_result"
    }
   ],
   "source": [
    "df.Merchnum.unique()"
   ]
  },
  {
   "cell_type": "code",
   "execution_count": 23,
   "id": "d09c1550",
   "metadata": {},
   "outputs": [],
   "source": [
    "df['Merchnum'] = pd.to_numeric(df['Merchnum'], errors='coerce')\n"
   ]
  },
  {
   "cell_type": "code",
   "execution_count": 24,
   "id": "b1e3533e",
   "metadata": {},
   "outputs": [
    {
     "data": {
      "text/plain": [
       "array(['FEDEX SHP 12/23/09 AB#', 'SERVICE MERCHANDISE #81',\n",
       "       'OFFICE DEPOT #191', ..., 'TEXACO     22601220094',\n",
       "       'BEST BUY      00004226', 'BEST BUY      00001610'], dtype=object)"
      ]
     },
     "execution_count": 24,
     "metadata": {},
     "output_type": "execute_result"
    }
   ],
   "source": [
    "df['Merch description'].unique()"
   ]
  },
  {
   "cell_type": "code",
   "execution_count": 25,
   "id": "8b296483",
   "metadata": {},
   "outputs": [
    {
     "data": {
      "text/plain": [
       "Merch description\n",
       "SIGMA-ALDRICH             1635\n",
       "STAPLES #941              1173\n",
       "FISHER SCI ATL            1092\n",
       "MWI*MICRO WAREHOUSE        956\n",
       "CDW*GOVERNMENT INC         872\n",
       "                          ... \n",
       "BERNIES CUSTOM PICTURE       1\n",
       "TIMBERLINE DODGE INC         1\n",
       "CAPITAL MEETING PLANNI       1\n",
       "U OF M-MN EXT SERV CTR       1\n",
       "BEST BUY      00001610       1\n",
       "Name: count, Length: 12184, dtype: int64"
      ]
     },
     "execution_count": 25,
     "metadata": {},
     "output_type": "execute_result"
    }
   ],
   "source": [
    "df['Merch description'].value_counts()"
   ]
  },
  {
   "cell_type": "code",
   "execution_count": 26,
   "id": "7856e29a",
   "metadata": {},
   "outputs": [
    {
     "data": {
      "text/plain": [
       "array(['TN', 'MA', 'MD', 'OH', 'GA', 'IL', 'TX', 'WA', 'WI', 'NJ', 'FL',\n",
       "       'CA', 'MS', 'VA', 'MO', 'PA', 'NC', 'CT', 'KS', 'OR', 'SC', 'MI',\n",
       "       'NY', 'MN', 'KY', 'ME', 'CO', 'DC', 'AK', 'IA', 'NH', 'MT', 'OK',\n",
       "       'NV', 'RI', 'NE', 'AZ', 'NM', 'WV', 'UT', 'ID', 'SD', 'AL', 'DE',\n",
       "       'LA', 'IN', 'VT', 'ND', 'AR', 'HI', 'WY'], dtype=object)"
      ]
     },
     "execution_count": 26,
     "metadata": {},
     "output_type": "execute_result"
    }
   ],
   "source": [
    "df['Merch state'].unique()"
   ]
  },
  {
   "cell_type": "code",
   "execution_count": 27,
   "id": "d1851d55",
   "metadata": {},
   "outputs": [
    {
     "data": {
      "text/plain": [
       "array([38118.,  1803., 20706., ...,  3455., 60033., 36043.])"
      ]
     },
     "execution_count": 27,
     "metadata": {},
     "output_type": "execute_result"
    }
   ],
   "source": [
    "df['Merch zip'].unique()"
   ]
  },
  {
   "cell_type": "code",
   "execution_count": 28,
   "id": "6c759b7c",
   "metadata": {},
   "outputs": [
    {
     "data": {
      "text/plain": [
       "array([   3.62,   31.42,  178.49, ...,  243.15, 2202.03,  554.64])"
      ]
     },
     "execution_count": 28,
     "metadata": {},
     "output_type": "execute_result"
    }
   ],
   "source": [
    "df['Amount'].unique()"
   ]
  },
  {
   "cell_type": "code",
   "execution_count": 29,
   "id": "d7693bcf",
   "metadata": {},
   "outputs": [
    {
     "data": {
      "text/plain": [
       "array([0, 1], dtype=int64)"
      ]
     },
     "execution_count": 29,
     "metadata": {},
     "output_type": "execute_result"
    }
   ],
   "source": [
    "df['Fraud'].unique()"
   ]
  },
  {
   "cell_type": "code",
   "execution_count": 30,
   "id": "10033d16",
   "metadata": {},
   "outputs": [
    {
     "name": "stdout",
     "output_type": "stream",
     "text": [
      "convert time 0 days 00:00:00.249387\n"
     ]
    },
    {
     "data": {
      "text/plain": [
       "Recnum                       object\n",
       "Cardnum                      object\n",
       "Date                 datetime64[ns]\n",
       "Merchnum                     object\n",
       "Merch description            object\n",
       "Merch state                  object\n",
       "Merch zip                    object\n",
       "Transtype                    object\n",
       "Amount                      float64\n",
       "Fraud                         int64\n",
       "dtype: object"
      ]
     },
     "execution_count": 30,
     "metadata": {},
     "output_type": "execute_result"
    }
   ],
   "source": [
    "start_time = pd.Timestamp.now\n",
    "\n",
    "start_convert = pd.Timestamp.now()\n",
    "df_var = copy.deepcopy(df)\n",
    "\n",
    "# Convert values to string type so that we can concatenate some of them together to make variables\n",
    "cols_convert = [df_var.columns.drop(['Date','Fraud','Amount'])] # Don't convert these data fields\n",
    "for item in cols_convert:\n",
    "    \n",
    "    df_var[item] = df_var[item].astype(str)\n",
    "\n",
    "print('convert time', pd.Timestamp.now()-start_convert)\n",
    "df_var.dtypes"
   ]
  },
  {
   "cell_type": "markdown",
   "id": "afe9921a",
   "metadata": {},
   "source": [
    "Convert appropriate data fields back to numbers\n"
   ]
  },
  {
   "cell_type": "code",
   "execution_count": 31,
   "id": "24bc1c76",
   "metadata": {},
   "outputs": [
    {
     "name": "stdout",
     "output_type": "stream",
     "text": [
      "The values are probably too big: Merchnum\n",
      "The values are probably too big: Merch zip\n",
      "convert time 0 days 00:00:00.042709\n"
     ]
    },
    {
     "data": {
      "text/plain": [
       "Recnum                        int32\n",
       "Cardnum                       int64\n",
       "Date                 datetime64[ns]\n",
       "Merchnum                     object\n",
       "Merch description            object\n",
       "Merch state                  object\n",
       "Merch zip                    object\n",
       "Transtype                    object\n",
       "Amount                      float64\n",
       "Fraud                         int64\n",
       "dtype: object"
      ]
     },
     "execution_count": 31,
     "metadata": {},
     "output_type": "execute_result"
    }
   ],
   "source": [
    "# Convert appropriate data fields back to integers for faster processing later in the code\n",
    "start_convert=pd.Timestamp.now()\n",
    "\n",
    "cols_int = ['Recnum','Cardnum','Merchnum','Merch zip']\n",
    "cols_var = df_var.columns\n",
    "\n",
    "for item in cols_var:\n",
    "    temp = set(item.split('-'))\n",
    "#     print(temp)\n",
    "    if temp.issubset(cols_int):\n",
    "        try:\n",
    "            df_var[item] = df_var[item].astype(int)\n",
    "        except:\n",
    "            try:\n",
    "                df_var[item] = df_var[item].astype('int64')\n",
    "            except:\n",
    "                print('The values are probably too big:', item)\n",
    "                continue\n",
    "\n",
    "print('convert time', pd.Timestamp.now()-start_convert)\n",
    "df_var.dtypes"
   ]
  },
  {
   "cell_type": "code",
   "execution_count": 32,
   "id": "110b6773",
   "metadata": {},
   "outputs": [
    {
     "data": {
      "text/html": [
       "<div>\n",
       "<style scoped>\n",
       "    .dataframe tbody tr th:only-of-type {\n",
       "        vertical-align: middle;\n",
       "    }\n",
       "\n",
       "    .dataframe tbody tr th {\n",
       "        vertical-align: top;\n",
       "    }\n",
       "\n",
       "    .dataframe thead th {\n",
       "        text-align: right;\n",
       "    }\n",
       "</style>\n",
       "<table border=\"1\" class=\"dataframe\">\n",
       "  <thead>\n",
       "    <tr style=\"text-align: right;\">\n",
       "      <th></th>\n",
       "      <th>Recnum</th>\n",
       "      <th>Cardnum</th>\n",
       "      <th>Date</th>\n",
       "      <th>Merchnum</th>\n",
       "      <th>Merch description</th>\n",
       "      <th>Merch state</th>\n",
       "      <th>Merch zip</th>\n",
       "      <th>Transtype</th>\n",
       "      <th>Amount</th>\n",
       "      <th>Fraud</th>\n",
       "    </tr>\n",
       "  </thead>\n",
       "  <tbody>\n",
       "    <tr>\n",
       "      <th>0</th>\n",
       "      <td>1</td>\n",
       "      <td>5142190439</td>\n",
       "      <td>2010-01-01</td>\n",
       "      <td>5509006296254.0</td>\n",
       "      <td>FEDEX SHP 12/23/09 AB#</td>\n",
       "      <td>TN</td>\n",
       "      <td>38118.0</td>\n",
       "      <td>P</td>\n",
       "      <td>3.62</td>\n",
       "      <td>0</td>\n",
       "    </tr>\n",
       "    <tr>\n",
       "      <th>1</th>\n",
       "      <td>2</td>\n",
       "      <td>5142183973</td>\n",
       "      <td>2010-01-01</td>\n",
       "      <td>61003026333.0</td>\n",
       "      <td>SERVICE MERCHANDISE #81</td>\n",
       "      <td>MA</td>\n",
       "      <td>1803.0</td>\n",
       "      <td>P</td>\n",
       "      <td>31.42</td>\n",
       "      <td>0</td>\n",
       "    </tr>\n",
       "    <tr>\n",
       "      <th>2</th>\n",
       "      <td>3</td>\n",
       "      <td>5142131721</td>\n",
       "      <td>2010-01-01</td>\n",
       "      <td>4503082993600.0</td>\n",
       "      <td>OFFICE DEPOT #191</td>\n",
       "      <td>MD</td>\n",
       "      <td>20706.0</td>\n",
       "      <td>P</td>\n",
       "      <td>178.49</td>\n",
       "      <td>0</td>\n",
       "    </tr>\n",
       "    <tr>\n",
       "      <th>3</th>\n",
       "      <td>4</td>\n",
       "      <td>5142148452</td>\n",
       "      <td>2010-01-01</td>\n",
       "      <td>5509006296254.0</td>\n",
       "      <td>FEDEX SHP 12/28/09 AB#</td>\n",
       "      <td>TN</td>\n",
       "      <td>38118.0</td>\n",
       "      <td>P</td>\n",
       "      <td>3.62</td>\n",
       "      <td>0</td>\n",
       "    </tr>\n",
       "    <tr>\n",
       "      <th>4</th>\n",
       "      <td>5</td>\n",
       "      <td>5142190439</td>\n",
       "      <td>2010-01-01</td>\n",
       "      <td>5509006296254.0</td>\n",
       "      <td>FEDEX SHP 12/23/09 AB#</td>\n",
       "      <td>TN</td>\n",
       "      <td>38118.0</td>\n",
       "      <td>P</td>\n",
       "      <td>3.62</td>\n",
       "      <td>0</td>\n",
       "    </tr>\n",
       "    <tr>\n",
       "      <th>...</th>\n",
       "      <td>...</td>\n",
       "      <td>...</td>\n",
       "      <td>...</td>\n",
       "      <td>...</td>\n",
       "      <td>...</td>\n",
       "      <td>...</td>\n",
       "      <td>...</td>\n",
       "      <td>...</td>\n",
       "      <td>...</td>\n",
       "      <td>...</td>\n",
       "    </tr>\n",
       "    <tr>\n",
       "      <th>96748</th>\n",
       "      <td>96749</td>\n",
       "      <td>5142276053</td>\n",
       "      <td>2010-12-31</td>\n",
       "      <td>3500000006160.0</td>\n",
       "      <td>BEST BUY      00001610</td>\n",
       "      <td>KY</td>\n",
       "      <td>41042.0</td>\n",
       "      <td>P</td>\n",
       "      <td>84.79</td>\n",
       "      <td>0</td>\n",
       "    </tr>\n",
       "    <tr>\n",
       "      <th>96749</th>\n",
       "      <td>96750</td>\n",
       "      <td>5142225701</td>\n",
       "      <td>2010-12-31</td>\n",
       "      <td>8090710030950.0</td>\n",
       "      <td>MARKUS OFFICE SUPPLIES</td>\n",
       "      <td>OH</td>\n",
       "      <td>45248.0</td>\n",
       "      <td>P</td>\n",
       "      <td>118.75</td>\n",
       "      <td>0</td>\n",
       "    </tr>\n",
       "    <tr>\n",
       "      <th>96750</th>\n",
       "      <td>96751</td>\n",
       "      <td>5142226486</td>\n",
       "      <td>2010-12-31</td>\n",
       "      <td>4503057341100.0</td>\n",
       "      <td>TECH PAC, INC</td>\n",
       "      <td>OH</td>\n",
       "      <td>45150.0</td>\n",
       "      <td>P</td>\n",
       "      <td>363.56</td>\n",
       "      <td>0</td>\n",
       "    </tr>\n",
       "    <tr>\n",
       "      <th>96751</th>\n",
       "      <td>96752</td>\n",
       "      <td>5142244619</td>\n",
       "      <td>2010-12-31</td>\n",
       "      <td>8834000695412.0</td>\n",
       "      <td>BUY.COM</td>\n",
       "      <td>CA</td>\n",
       "      <td>92656.0</td>\n",
       "      <td>P</td>\n",
       "      <td>2202.03</td>\n",
       "      <td>0</td>\n",
       "    </tr>\n",
       "    <tr>\n",
       "      <th>96752</th>\n",
       "      <td>96753</td>\n",
       "      <td>5142243247</td>\n",
       "      <td>2010-12-31</td>\n",
       "      <td>9108347680006.0</td>\n",
       "      <td>STAPLES NATIONAL #471</td>\n",
       "      <td>NJ</td>\n",
       "      <td>7606.0</td>\n",
       "      <td>P</td>\n",
       "      <td>554.64</td>\n",
       "      <td>0</td>\n",
       "    </tr>\n",
       "  </tbody>\n",
       "</table>\n",
       "<p>90198 rows × 10 columns</p>\n",
       "</div>"
      ],
      "text/plain": [
       "       Recnum     Cardnum       Date         Merchnum  \\\n",
       "0           1  5142190439 2010-01-01  5509006296254.0   \n",
       "1           2  5142183973 2010-01-01    61003026333.0   \n",
       "2           3  5142131721 2010-01-01  4503082993600.0   \n",
       "3           4  5142148452 2010-01-01  5509006296254.0   \n",
       "4           5  5142190439 2010-01-01  5509006296254.0   \n",
       "...       ...         ...        ...              ...   \n",
       "96748   96749  5142276053 2010-12-31  3500000006160.0   \n",
       "96749   96750  5142225701 2010-12-31  8090710030950.0   \n",
       "96750   96751  5142226486 2010-12-31  4503057341100.0   \n",
       "96751   96752  5142244619 2010-12-31  8834000695412.0   \n",
       "96752   96753  5142243247 2010-12-31  9108347680006.0   \n",
       "\n",
       "             Merch description Merch state Merch zip Transtype   Amount  Fraud  \n",
       "0       FEDEX SHP 12/23/09 AB#          TN   38118.0         P     3.62      0  \n",
       "1      SERVICE MERCHANDISE #81          MA    1803.0         P    31.42      0  \n",
       "2            OFFICE DEPOT #191          MD   20706.0         P   178.49      0  \n",
       "3       FEDEX SHP 12/28/09 AB#          TN   38118.0         P     3.62      0  \n",
       "4       FEDEX SHP 12/23/09 AB#          TN   38118.0         P     3.62      0  \n",
       "...                        ...         ...       ...       ...      ...    ...  \n",
       "96748   BEST BUY      00001610          KY   41042.0         P    84.79      0  \n",
       "96749   MARKUS OFFICE SUPPLIES          OH   45248.0         P   118.75      0  \n",
       "96750            TECH PAC, INC          OH   45150.0         P   363.56      0  \n",
       "96751                  BUY.COM          CA   92656.0         P  2202.03      0  \n",
       "96752    STAPLES NATIONAL #471          NJ    7606.0         P   554.64      0  \n",
       "\n",
       "[90198 rows x 10 columns]"
      ]
     },
     "execution_count": 32,
     "metadata": {},
     "output_type": "execute_result"
    }
   ],
   "source": [
    "df_var"
   ]
  },
  {
   "cell_type": "code",
   "execution_count": 33,
   "id": "93afe3e4",
   "metadata": {},
   "outputs": [],
   "source": [
    "def ds(dataframe, g1, g2, name):\n",
    "#     'Helps with calculating the day since variables'\n",
    "    day_since = dataframe.groupby(g1)[g1].first()\n",
    "    day_since = day_since.rename_axis(['None' for i in range(len(g1))]).groupby(g2).diff()\n",
    "    day_since.columns = [name]\n",
    "    day_since = day_since.rename_axis(g1)\n",
    "    day_since[name] = day_since[name].dt.days.fillna(0)\n",
    "    day_since = day_since.reset_index()\n",
    "    return day_since"
   ]
  },
  {
   "cell_type": "code",
   "execution_count": 34,
   "id": "7d1bfc2b",
   "metadata": {},
   "outputs": [
    {
     "name": "stdout",
     "output_type": "stream",
     "text": [
      "done! 0 days 00:00:00.041136\n"
     ]
    },
    {
     "data": {
      "text/html": [
       "<div>\n",
       "<style scoped>\n",
       "    .dataframe tbody tr th:only-of-type {\n",
       "        vertical-align: middle;\n",
       "    }\n",
       "\n",
       "    .dataframe tbody tr th {\n",
       "        vertical-align: top;\n",
       "    }\n",
       "\n",
       "    .dataframe thead th {\n",
       "        text-align: right;\n",
       "    }\n",
       "</style>\n",
       "<table border=\"1\" class=\"dataframe\">\n",
       "  <thead>\n",
       "    <tr style=\"text-align: right;\">\n",
       "      <th></th>\n",
       "      <th>Cardnum</th>\n",
       "      <th>Date</th>\n",
       "      <th>card_daysSince</th>\n",
       "    </tr>\n",
       "  </thead>\n",
       "  <tbody>\n",
       "    <tr>\n",
       "      <th>0</th>\n",
       "      <td>5142110081</td>\n",
       "      <td>2010-11-26</td>\n",
       "      <td>0.0</td>\n",
       "    </tr>\n",
       "    <tr>\n",
       "      <th>1</th>\n",
       "      <td>5142110081</td>\n",
       "      <td>2010-12-27</td>\n",
       "      <td>31.0</td>\n",
       "    </tr>\n",
       "    <tr>\n",
       "      <th>2</th>\n",
       "      <td>5142110402</td>\n",
       "      <td>2010-01-19</td>\n",
       "      <td>0.0</td>\n",
       "    </tr>\n",
       "    <tr>\n",
       "      <th>3</th>\n",
       "      <td>5142110402</td>\n",
       "      <td>2010-01-31</td>\n",
       "      <td>12.0</td>\n",
       "    </tr>\n",
       "    <tr>\n",
       "      <th>4</th>\n",
       "      <td>5142110402</td>\n",
       "      <td>2010-02-03</td>\n",
       "      <td>3.0</td>\n",
       "    </tr>\n",
       "    <tr>\n",
       "      <th>...</th>\n",
       "      <td>...</td>\n",
       "      <td>...</td>\n",
       "      <td>...</td>\n",
       "    </tr>\n",
       "    <tr>\n",
       "      <th>58992</th>\n",
       "      <td>5142847398</td>\n",
       "      <td>2010-03-21</td>\n",
       "      <td>3.0</td>\n",
       "    </tr>\n",
       "    <tr>\n",
       "      <th>58993</th>\n",
       "      <td>5142847398</td>\n",
       "      <td>2010-03-22</td>\n",
       "      <td>1.0</td>\n",
       "    </tr>\n",
       "    <tr>\n",
       "      <th>58994</th>\n",
       "      <td>5142847398</td>\n",
       "      <td>2010-03-24</td>\n",
       "      <td>2.0</td>\n",
       "    </tr>\n",
       "    <tr>\n",
       "      <th>58995</th>\n",
       "      <td>5142847398</td>\n",
       "      <td>2010-03-28</td>\n",
       "      <td>4.0</td>\n",
       "    </tr>\n",
       "    <tr>\n",
       "      <th>58996</th>\n",
       "      <td>5142847398</td>\n",
       "      <td>2010-03-29</td>\n",
       "      <td>1.0</td>\n",
       "    </tr>\n",
       "  </tbody>\n",
       "</table>\n",
       "<p>58997 rows × 3 columns</p>\n",
       "</div>"
      ],
      "text/plain": [
       "          Cardnum       Date  card_daysSince\n",
       "0      5142110081 2010-11-26             0.0\n",
       "1      5142110081 2010-12-27            31.0\n",
       "2      5142110402 2010-01-19             0.0\n",
       "3      5142110402 2010-01-31            12.0\n",
       "4      5142110402 2010-02-03             3.0\n",
       "...           ...        ...             ...\n",
       "58992  5142847398 2010-03-21             3.0\n",
       "58993  5142847398 2010-03-22             1.0\n",
       "58994  5142847398 2010-03-24             2.0\n",
       "58995  5142847398 2010-03-28             4.0\n",
       "58996  5142847398 2010-03-29             1.0\n",
       "\n",
       "[58997 rows x 3 columns]"
      ]
     },
     "execution_count": 34,
     "metadata": {},
     "output_type": "execute_result"
    }
   ],
   "source": [
    "start_daySince = pd.Timestamp.now()\n",
    "day_card = ds(df_var, ['Cardnum', 'Date'], 'Cardnum', 'card_daysSince')\n",
    "print(\"done!\", pd.Timestamp.now()-start_daySince)\n",
    "day_card"
   ]
  },
  {
   "cell_type": "code",
   "execution_count": 35,
   "id": "69aaf7a7",
   "metadata": {},
   "outputs": [
    {
     "name": "stdout",
     "output_type": "stream",
     "text": [
      "Done with: Cardnum ; Time: 0 days 00:00:00.042424\n",
      "Done with: Merchnum ; Time: 0 days 00:00:00.072251\n",
      "DONE! 0 days 00:00:00.115677\n"
     ]
    }
   ],
   "source": [
    "time_ds_all=pd.Timestamp.now()\n",
    "# Calculate the Days Since variables for the required columns\n",
    "ds_cols = ['Cardnum','Merchnum']\n",
    "\n",
    "ds_dict={}\n",
    "for col in ds_cols:\n",
    "    curr_time=pd.Timestamp.now()\n",
    "    curr_name = 'daysSince_' + col\n",
    "    \n",
    "    # Calculate the days-since variable (ds) and assign it to a global variable (curr_name)\n",
    "    vars()[curr_name] = ds(df_var, [col, 'Date'], col, col+'_daysSince')\n",
    "    ds_dict[curr_name] = vars()[curr_name] # Save results to a dictionary\n",
    "    \n",
    "    print(\"Done with:\", col, \"; Time:\", pd.Timestamp.now()-curr_time)\n",
    "    \n",
    "print(\"DONE!\", pd.Timestamp.now()-time_ds_all)"
   ]
  },
  {
   "cell_type": "code",
   "execution_count": 36,
   "id": "426709c1",
   "metadata": {},
   "outputs": [
    {
     "data": {
      "text/plain": [
       "dict_keys(['daysSince_Cardnum', 'daysSince_Merchnum'])"
      ]
     },
     "execution_count": 36,
     "metadata": {},
     "output_type": "execute_result"
    }
   ],
   "source": [
    "ds_dict.keys()\n"
   ]
  },
  {
   "cell_type": "code",
   "execution_count": 37,
   "id": "b303f7f1",
   "metadata": {},
   "outputs": [],
   "source": [
    "df_ds = df_var.copy()\n",
    "\n",
    "# Merge the days-since variables with the main dataset\n",
    "for item in ds_dict.keys():\n",
    "    col_variable = item.split('_')[1]\n",
    "    df_ds = pd.merge(df_ds, vars()[item], how='left', left_on=[col_variable,'Date'], right_on=[col_variable,'Date'])"
   ]
  },
  {
   "cell_type": "code",
   "execution_count": 38,
   "id": "ce98525c",
   "metadata": {},
   "outputs": [
    {
     "data": {
      "text/html": [
       "<div>\n",
       "<style scoped>\n",
       "    .dataframe tbody tr th:only-of-type {\n",
       "        vertical-align: middle;\n",
       "    }\n",
       "\n",
       "    .dataframe tbody tr th {\n",
       "        vertical-align: top;\n",
       "    }\n",
       "\n",
       "    .dataframe thead th {\n",
       "        text-align: right;\n",
       "    }\n",
       "</style>\n",
       "<table border=\"1\" class=\"dataframe\">\n",
       "  <thead>\n",
       "    <tr style=\"text-align: right;\">\n",
       "      <th></th>\n",
       "      <th>Recnum</th>\n",
       "      <th>Cardnum</th>\n",
       "      <th>Date</th>\n",
       "      <th>Merchnum</th>\n",
       "      <th>Merch description</th>\n",
       "      <th>Merch state</th>\n",
       "      <th>Merch zip</th>\n",
       "      <th>Transtype</th>\n",
       "      <th>Amount</th>\n",
       "      <th>Fraud</th>\n",
       "      <th>Cardnum_daysSince</th>\n",
       "      <th>Merchnum_daysSince</th>\n",
       "    </tr>\n",
       "  </thead>\n",
       "  <tbody>\n",
       "    <tr>\n",
       "      <th>0</th>\n",
       "      <td>1</td>\n",
       "      <td>5142190439</td>\n",
       "      <td>2010-01-01</td>\n",
       "      <td>5509006296254.0</td>\n",
       "      <td>FEDEX SHP 12/23/09 AB#</td>\n",
       "      <td>TN</td>\n",
       "      <td>38118.0</td>\n",
       "      <td>P</td>\n",
       "      <td>3.62</td>\n",
       "      <td>0</td>\n",
       "      <td>0.0</td>\n",
       "      <td>0.0</td>\n",
       "    </tr>\n",
       "    <tr>\n",
       "      <th>1</th>\n",
       "      <td>2</td>\n",
       "      <td>5142183973</td>\n",
       "      <td>2010-01-01</td>\n",
       "      <td>61003026333.0</td>\n",
       "      <td>SERVICE MERCHANDISE #81</td>\n",
       "      <td>MA</td>\n",
       "      <td>1803.0</td>\n",
       "      <td>P</td>\n",
       "      <td>31.42</td>\n",
       "      <td>0</td>\n",
       "      <td>0.0</td>\n",
       "      <td>0.0</td>\n",
       "    </tr>\n",
       "    <tr>\n",
       "      <th>2</th>\n",
       "      <td>3</td>\n",
       "      <td>5142131721</td>\n",
       "      <td>2010-01-01</td>\n",
       "      <td>4503082993600.0</td>\n",
       "      <td>OFFICE DEPOT #191</td>\n",
       "      <td>MD</td>\n",
       "      <td>20706.0</td>\n",
       "      <td>P</td>\n",
       "      <td>178.49</td>\n",
       "      <td>0</td>\n",
       "      <td>0.0</td>\n",
       "      <td>0.0</td>\n",
       "    </tr>\n",
       "    <tr>\n",
       "      <th>3</th>\n",
       "      <td>4</td>\n",
       "      <td>5142148452</td>\n",
       "      <td>2010-01-01</td>\n",
       "      <td>5509006296254.0</td>\n",
       "      <td>FEDEX SHP 12/28/09 AB#</td>\n",
       "      <td>TN</td>\n",
       "      <td>38118.0</td>\n",
       "      <td>P</td>\n",
       "      <td>3.62</td>\n",
       "      <td>0</td>\n",
       "      <td>0.0</td>\n",
       "      <td>0.0</td>\n",
       "    </tr>\n",
       "    <tr>\n",
       "      <th>4</th>\n",
       "      <td>5</td>\n",
       "      <td>5142190439</td>\n",
       "      <td>2010-01-01</td>\n",
       "      <td>5509006296254.0</td>\n",
       "      <td>FEDEX SHP 12/23/09 AB#</td>\n",
       "      <td>TN</td>\n",
       "      <td>38118.0</td>\n",
       "      <td>P</td>\n",
       "      <td>3.62</td>\n",
       "      <td>0</td>\n",
       "      <td>0.0</td>\n",
       "      <td>0.0</td>\n",
       "    </tr>\n",
       "    <tr>\n",
       "      <th>...</th>\n",
       "      <td>...</td>\n",
       "      <td>...</td>\n",
       "      <td>...</td>\n",
       "      <td>...</td>\n",
       "      <td>...</td>\n",
       "      <td>...</td>\n",
       "      <td>...</td>\n",
       "      <td>...</td>\n",
       "      <td>...</td>\n",
       "      <td>...</td>\n",
       "      <td>...</td>\n",
       "      <td>...</td>\n",
       "    </tr>\n",
       "    <tr>\n",
       "      <th>90193</th>\n",
       "      <td>96749</td>\n",
       "      <td>5142276053</td>\n",
       "      <td>2010-12-31</td>\n",
       "      <td>3500000006160.0</td>\n",
       "      <td>BEST BUY      00001610</td>\n",
       "      <td>KY</td>\n",
       "      <td>41042.0</td>\n",
       "      <td>P</td>\n",
       "      <td>84.79</td>\n",
       "      <td>0</td>\n",
       "      <td>37.0</td>\n",
       "      <td>0.0</td>\n",
       "    </tr>\n",
       "    <tr>\n",
       "      <th>90194</th>\n",
       "      <td>96750</td>\n",
       "      <td>5142225701</td>\n",
       "      <td>2010-12-31</td>\n",
       "      <td>8090710030950.0</td>\n",
       "      <td>MARKUS OFFICE SUPPLIES</td>\n",
       "      <td>OH</td>\n",
       "      <td>45248.0</td>\n",
       "      <td>P</td>\n",
       "      <td>118.75</td>\n",
       "      <td>0</td>\n",
       "      <td>2.0</td>\n",
       "      <td>9.0</td>\n",
       "    </tr>\n",
       "    <tr>\n",
       "      <th>90195</th>\n",
       "      <td>96751</td>\n",
       "      <td>5142226486</td>\n",
       "      <td>2010-12-31</td>\n",
       "      <td>4503057341100.0</td>\n",
       "      <td>TECH PAC, INC</td>\n",
       "      <td>OH</td>\n",
       "      <td>45150.0</td>\n",
       "      <td>P</td>\n",
       "      <td>363.56</td>\n",
       "      <td>0</td>\n",
       "      <td>1.0</td>\n",
       "      <td>4.0</td>\n",
       "    </tr>\n",
       "    <tr>\n",
       "      <th>90196</th>\n",
       "      <td>96752</td>\n",
       "      <td>5142244619</td>\n",
       "      <td>2010-12-31</td>\n",
       "      <td>8834000695412.0</td>\n",
       "      <td>BUY.COM</td>\n",
       "      <td>CA</td>\n",
       "      <td>92656.0</td>\n",
       "      <td>P</td>\n",
       "      <td>2202.03</td>\n",
       "      <td>0</td>\n",
       "      <td>9.0</td>\n",
       "      <td>1.0</td>\n",
       "    </tr>\n",
       "    <tr>\n",
       "      <th>90197</th>\n",
       "      <td>96753</td>\n",
       "      <td>5142243247</td>\n",
       "      <td>2010-12-31</td>\n",
       "      <td>9108347680006.0</td>\n",
       "      <td>STAPLES NATIONAL #471</td>\n",
       "      <td>NJ</td>\n",
       "      <td>7606.0</td>\n",
       "      <td>P</td>\n",
       "      <td>554.64</td>\n",
       "      <td>0</td>\n",
       "      <td>2.0</td>\n",
       "      <td>2.0</td>\n",
       "    </tr>\n",
       "  </tbody>\n",
       "</table>\n",
       "<p>90198 rows × 12 columns</p>\n",
       "</div>"
      ],
      "text/plain": [
       "       Recnum     Cardnum       Date         Merchnum  \\\n",
       "0           1  5142190439 2010-01-01  5509006296254.0   \n",
       "1           2  5142183973 2010-01-01    61003026333.0   \n",
       "2           3  5142131721 2010-01-01  4503082993600.0   \n",
       "3           4  5142148452 2010-01-01  5509006296254.0   \n",
       "4           5  5142190439 2010-01-01  5509006296254.0   \n",
       "...       ...         ...        ...              ...   \n",
       "90193   96749  5142276053 2010-12-31  3500000006160.0   \n",
       "90194   96750  5142225701 2010-12-31  8090710030950.0   \n",
       "90195   96751  5142226486 2010-12-31  4503057341100.0   \n",
       "90196   96752  5142244619 2010-12-31  8834000695412.0   \n",
       "90197   96753  5142243247 2010-12-31  9108347680006.0   \n",
       "\n",
       "             Merch description Merch state Merch zip Transtype   Amount  \\\n",
       "0       FEDEX SHP 12/23/09 AB#          TN   38118.0         P     3.62   \n",
       "1      SERVICE MERCHANDISE #81          MA    1803.0         P    31.42   \n",
       "2            OFFICE DEPOT #191          MD   20706.0         P   178.49   \n",
       "3       FEDEX SHP 12/28/09 AB#          TN   38118.0         P     3.62   \n",
       "4       FEDEX SHP 12/23/09 AB#          TN   38118.0         P     3.62   \n",
       "...                        ...         ...       ...       ...      ...   \n",
       "90193   BEST BUY      00001610          KY   41042.0         P    84.79   \n",
       "90194   MARKUS OFFICE SUPPLIES          OH   45248.0         P   118.75   \n",
       "90195            TECH PAC, INC          OH   45150.0         P   363.56   \n",
       "90196                  BUY.COM          CA   92656.0         P  2202.03   \n",
       "90197    STAPLES NATIONAL #471          NJ    7606.0         P   554.64   \n",
       "\n",
       "       Fraud  Cardnum_daysSince  Merchnum_daysSince  \n",
       "0          0                0.0                 0.0  \n",
       "1          0                0.0                 0.0  \n",
       "2          0                0.0                 0.0  \n",
       "3          0                0.0                 0.0  \n",
       "4          0                0.0                 0.0  \n",
       "...      ...                ...                 ...  \n",
       "90193      0               37.0                 0.0  \n",
       "90194      0                2.0                 9.0  \n",
       "90195      0                1.0                 4.0  \n",
       "90196      0                9.0                 1.0  \n",
       "90197      0                2.0                 2.0  \n",
       "\n",
       "[90198 rows x 12 columns]"
      ]
     },
     "execution_count": 38,
     "metadata": {},
     "output_type": "execute_result"
    }
   ],
   "source": [
    "df_ds\n"
   ]
  },
  {
   "cell_type": "code",
   "execution_count": 39,
   "id": "f6ebcced",
   "metadata": {},
   "outputs": [
    {
     "name": "stdout",
     "output_type": "stream",
     "text": [
      "11767\n"
     ]
    },
    {
     "data": {
      "text/plain": [
       "(78431, 12)"
      ]
     },
     "execution_count": 39,
     "metadata": {},
     "output_type": "execute_result"
    }
   ],
   "source": [
    "# remove FEDEX first only for this part\n",
    "# drop fedex values\n",
    "fed_ex_index = df_ds['Merch description'].str.contains('FEDEX SHP')\n",
    "print(fed_ex_index.sum())\n",
    "\n",
    "applic_ds_df = df_ds.drop(df_ds.index[fed_ex_index])\n",
    "applic_ds_df.shape\n"
   ]
  },
  {
   "cell_type": "markdown",
   "id": "03ac1cc2",
   "metadata": {},
   "source": [
    "Risk Table\n"
   ]
  },
  {
   "cell_type": "code",
   "execution_count": 40,
   "id": "9a60765b",
   "metadata": {},
   "outputs": [
    {
     "data": {
      "text/html": [
       "<div>\n",
       "<style scoped>\n",
       "    .dataframe tbody tr th:only-of-type {\n",
       "        vertical-align: middle;\n",
       "    }\n",
       "\n",
       "    .dataframe tbody tr th {\n",
       "        vertical-align: top;\n",
       "    }\n",
       "\n",
       "    .dataframe thead th {\n",
       "        text-align: right;\n",
       "    }\n",
       "</style>\n",
       "<table border=\"1\" class=\"dataframe\">\n",
       "  <thead>\n",
       "    <tr style=\"text-align: right;\">\n",
       "      <th></th>\n",
       "      <th>Recnum</th>\n",
       "      <th>Cardnum</th>\n",
       "      <th>Date</th>\n",
       "      <th>Merchnum</th>\n",
       "      <th>Merch description</th>\n",
       "      <th>Merch state</th>\n",
       "      <th>Merch zip</th>\n",
       "      <th>Transtype</th>\n",
       "      <th>Amount</th>\n",
       "      <th>Fraud</th>\n",
       "      <th>Day_of_week</th>\n",
       "    </tr>\n",
       "  </thead>\n",
       "  <tbody>\n",
       "    <tr>\n",
       "      <th>0</th>\n",
       "      <td>1</td>\n",
       "      <td>5142190439</td>\n",
       "      <td>2010-01-01</td>\n",
       "      <td>5.509006e+12</td>\n",
       "      <td>FEDEX SHP 12/23/09 AB#</td>\n",
       "      <td>TN</td>\n",
       "      <td>38118.0</td>\n",
       "      <td>P</td>\n",
       "      <td>3.62</td>\n",
       "      <td>0</td>\n",
       "      <td>Friday</td>\n",
       "    </tr>\n",
       "    <tr>\n",
       "      <th>1</th>\n",
       "      <td>2</td>\n",
       "      <td>5142183973</td>\n",
       "      <td>2010-01-01</td>\n",
       "      <td>6.100303e+10</td>\n",
       "      <td>SERVICE MERCHANDISE #81</td>\n",
       "      <td>MA</td>\n",
       "      <td>1803.0</td>\n",
       "      <td>P</td>\n",
       "      <td>31.42</td>\n",
       "      <td>0</td>\n",
       "      <td>Friday</td>\n",
       "    </tr>\n",
       "    <tr>\n",
       "      <th>2</th>\n",
       "      <td>3</td>\n",
       "      <td>5142131721</td>\n",
       "      <td>2010-01-01</td>\n",
       "      <td>4.503083e+12</td>\n",
       "      <td>OFFICE DEPOT #191</td>\n",
       "      <td>MD</td>\n",
       "      <td>20706.0</td>\n",
       "      <td>P</td>\n",
       "      <td>178.49</td>\n",
       "      <td>0</td>\n",
       "      <td>Friday</td>\n",
       "    </tr>\n",
       "    <tr>\n",
       "      <th>3</th>\n",
       "      <td>4</td>\n",
       "      <td>5142148452</td>\n",
       "      <td>2010-01-01</td>\n",
       "      <td>5.509006e+12</td>\n",
       "      <td>FEDEX SHP 12/28/09 AB#</td>\n",
       "      <td>TN</td>\n",
       "      <td>38118.0</td>\n",
       "      <td>P</td>\n",
       "      <td>3.62</td>\n",
       "      <td>0</td>\n",
       "      <td>Friday</td>\n",
       "    </tr>\n",
       "    <tr>\n",
       "      <th>4</th>\n",
       "      <td>5</td>\n",
       "      <td>5142190439</td>\n",
       "      <td>2010-01-01</td>\n",
       "      <td>5.509006e+12</td>\n",
       "      <td>FEDEX SHP 12/23/09 AB#</td>\n",
       "      <td>TN</td>\n",
       "      <td>38118.0</td>\n",
       "      <td>P</td>\n",
       "      <td>3.62</td>\n",
       "      <td>0</td>\n",
       "      <td>Friday</td>\n",
       "    </tr>\n",
       "    <tr>\n",
       "      <th>5</th>\n",
       "      <td>6</td>\n",
       "      <td>5142149874</td>\n",
       "      <td>2010-01-01</td>\n",
       "      <td>5.509006e+12</td>\n",
       "      <td>FEDEX SHP 12/22/09 AB#</td>\n",
       "      <td>TN</td>\n",
       "      <td>38118.0</td>\n",
       "      <td>P</td>\n",
       "      <td>3.67</td>\n",
       "      <td>0</td>\n",
       "      <td>Friday</td>\n",
       "    </tr>\n",
       "    <tr>\n",
       "      <th>6</th>\n",
       "      <td>7</td>\n",
       "      <td>5142189277</td>\n",
       "      <td>2010-01-01</td>\n",
       "      <td>5.509006e+12</td>\n",
       "      <td>FEDEX SHP 12/28/09 AB#</td>\n",
       "      <td>TN</td>\n",
       "      <td>38118.0</td>\n",
       "      <td>P</td>\n",
       "      <td>3.62</td>\n",
       "      <td>0</td>\n",
       "      <td>Friday</td>\n",
       "    </tr>\n",
       "    <tr>\n",
       "      <th>7</th>\n",
       "      <td>8</td>\n",
       "      <td>5142191182</td>\n",
       "      <td>2010-01-01</td>\n",
       "      <td>6.098208e+12</td>\n",
       "      <td>MIAMI COMPUTER SUPPLY</td>\n",
       "      <td>OH</td>\n",
       "      <td>45429.0</td>\n",
       "      <td>P</td>\n",
       "      <td>230.32</td>\n",
       "      <td>0</td>\n",
       "      <td>Friday</td>\n",
       "    </tr>\n",
       "    <tr>\n",
       "      <th>8</th>\n",
       "      <td>9</td>\n",
       "      <td>5142258629</td>\n",
       "      <td>2010-01-01</td>\n",
       "      <td>6.026090e+11</td>\n",
       "      <td>FISHER SCI ATL</td>\n",
       "      <td>GA</td>\n",
       "      <td>30091.0</td>\n",
       "      <td>P</td>\n",
       "      <td>62.11</td>\n",
       "      <td>0</td>\n",
       "      <td>Friday</td>\n",
       "    </tr>\n",
       "    <tr>\n",
       "      <th>9</th>\n",
       "      <td>10</td>\n",
       "      <td>5142190439</td>\n",
       "      <td>2010-01-01</td>\n",
       "      <td>5.509006e+12</td>\n",
       "      <td>FEDEX SHP 12/23/09 AB#</td>\n",
       "      <td>TN</td>\n",
       "      <td>38118.0</td>\n",
       "      <td>P</td>\n",
       "      <td>3.62</td>\n",
       "      <td>0</td>\n",
       "      <td>Friday</td>\n",
       "    </tr>\n",
       "    <tr>\n",
       "      <th>10</th>\n",
       "      <td>11</td>\n",
       "      <td>5142283088</td>\n",
       "      <td>2010-01-01</td>\n",
       "      <td>5.509006e+12</td>\n",
       "      <td>FEDEX SHP 12/22/09 AB#</td>\n",
       "      <td>TN</td>\n",
       "      <td>38118.0</td>\n",
       "      <td>P</td>\n",
       "      <td>3.62</td>\n",
       "      <td>0</td>\n",
       "      <td>Friday</td>\n",
       "    </tr>\n",
       "    <tr>\n",
       "      <th>11</th>\n",
       "      <td>12</td>\n",
       "      <td>5142190439</td>\n",
       "      <td>2010-01-01</td>\n",
       "      <td>5.509006e+12</td>\n",
       "      <td>FEDEX SHP 12/23/09 AB#</td>\n",
       "      <td>TN</td>\n",
       "      <td>38118.0</td>\n",
       "      <td>P</td>\n",
       "      <td>3.62</td>\n",
       "      <td>0</td>\n",
       "      <td>Friday</td>\n",
       "    </tr>\n",
       "    <tr>\n",
       "      <th>12</th>\n",
       "      <td>13</td>\n",
       "      <td>5142146134</td>\n",
       "      <td>2010-01-01</td>\n",
       "      <td>5.509006e+12</td>\n",
       "      <td>FEDEX SHP 12/21/09 AB#</td>\n",
       "      <td>TN</td>\n",
       "      <td>38118.0</td>\n",
       "      <td>P</td>\n",
       "      <td>3.85</td>\n",
       "      <td>0</td>\n",
       "      <td>Friday</td>\n",
       "    </tr>\n",
       "    <tr>\n",
       "      <th>13</th>\n",
       "      <td>14</td>\n",
       "      <td>5142124791</td>\n",
       "      <td>2010-01-01</td>\n",
       "      <td>5.725000e+12</td>\n",
       "      <td>CDW*GOVERNMENT INC</td>\n",
       "      <td>IL</td>\n",
       "      <td>60061.0</td>\n",
       "      <td>P</td>\n",
       "      <td>106.89</td>\n",
       "      <td>0</td>\n",
       "      <td>Friday</td>\n",
       "    </tr>\n",
       "    <tr>\n",
       "      <th>14</th>\n",
       "      <td>15</td>\n",
       "      <td>5142151402</td>\n",
       "      <td>2010-01-01</td>\n",
       "      <td>5.725000e+12</td>\n",
       "      <td>CDW*GOVERNMENT INC</td>\n",
       "      <td>IL</td>\n",
       "      <td>60061.0</td>\n",
       "      <td>P</td>\n",
       "      <td>137.45</td>\n",
       "      <td>0</td>\n",
       "      <td>Friday</td>\n",
       "    </tr>\n",
       "    <tr>\n",
       "      <th>15</th>\n",
       "      <td>16</td>\n",
       "      <td>5142148452</td>\n",
       "      <td>2010-01-01</td>\n",
       "      <td>5.509006e+12</td>\n",
       "      <td>FEDEX SHP 12/22/09 AB#</td>\n",
       "      <td>TN</td>\n",
       "      <td>38118.0</td>\n",
       "      <td>P</td>\n",
       "      <td>3.74</td>\n",
       "      <td>0</td>\n",
       "      <td>Friday</td>\n",
       "    </tr>\n",
       "    <tr>\n",
       "      <th>16</th>\n",
       "      <td>17</td>\n",
       "      <td>5142148452</td>\n",
       "      <td>2010-01-01</td>\n",
       "      <td>5.509006e+12</td>\n",
       "      <td>FEDEX SHP 12/28/09 AB#</td>\n",
       "      <td>TN</td>\n",
       "      <td>38118.0</td>\n",
       "      <td>P</td>\n",
       "      <td>3.80</td>\n",
       "      <td>0</td>\n",
       "      <td>Friday</td>\n",
       "    </tr>\n",
       "    <tr>\n",
       "      <th>17</th>\n",
       "      <td>18</td>\n",
       "      <td>5142125684</td>\n",
       "      <td>2010-01-01</td>\n",
       "      <td>5.509006e+12</td>\n",
       "      <td>FEDEX SHP 12/22/09 AB#</td>\n",
       "      <td>TN</td>\n",
       "      <td>38118.0</td>\n",
       "      <td>P</td>\n",
       "      <td>3.67</td>\n",
       "      <td>0</td>\n",
       "      <td>Friday</td>\n",
       "    </tr>\n",
       "    <tr>\n",
       "      <th>18</th>\n",
       "      <td>19</td>\n",
       "      <td>5142139349</td>\n",
       "      <td>2010-01-01</td>\n",
       "      <td>5.509006e+12</td>\n",
       "      <td>FEDEX SHP 12/23/09 AB#</td>\n",
       "      <td>TN</td>\n",
       "      <td>38118.0</td>\n",
       "      <td>P</td>\n",
       "      <td>3.67</td>\n",
       "      <td>0</td>\n",
       "      <td>Friday</td>\n",
       "    </tr>\n",
       "    <tr>\n",
       "      <th>19</th>\n",
       "      <td>20</td>\n",
       "      <td>5142190596</td>\n",
       "      <td>2010-01-01</td>\n",
       "      <td>6.026090e+11</td>\n",
       "      <td>FISHER SCI HUS</td>\n",
       "      <td>TX</td>\n",
       "      <td>77251.0</td>\n",
       "      <td>P</td>\n",
       "      <td>218.57</td>\n",
       "      <td>0</td>\n",
       "      <td>Friday</td>\n",
       "    </tr>\n",
       "  </tbody>\n",
       "</table>\n",
       "</div>"
      ],
      "text/plain": [
       "    Recnum     Cardnum       Date      Merchnum        Merch description  \\\n",
       "0        1  5142190439 2010-01-01  5.509006e+12   FEDEX SHP 12/23/09 AB#   \n",
       "1        2  5142183973 2010-01-01  6.100303e+10  SERVICE MERCHANDISE #81   \n",
       "2        3  5142131721 2010-01-01  4.503083e+12        OFFICE DEPOT #191   \n",
       "3        4  5142148452 2010-01-01  5.509006e+12   FEDEX SHP 12/28/09 AB#   \n",
       "4        5  5142190439 2010-01-01  5.509006e+12   FEDEX SHP 12/23/09 AB#   \n",
       "5        6  5142149874 2010-01-01  5.509006e+12   FEDEX SHP 12/22/09 AB#   \n",
       "6        7  5142189277 2010-01-01  5.509006e+12   FEDEX SHP 12/28/09 AB#   \n",
       "7        8  5142191182 2010-01-01  6.098208e+12    MIAMI COMPUTER SUPPLY   \n",
       "8        9  5142258629 2010-01-01  6.026090e+11           FISHER SCI ATL   \n",
       "9       10  5142190439 2010-01-01  5.509006e+12   FEDEX SHP 12/23/09 AB#   \n",
       "10      11  5142283088 2010-01-01  5.509006e+12   FEDEX SHP 12/22/09 AB#   \n",
       "11      12  5142190439 2010-01-01  5.509006e+12   FEDEX SHP 12/23/09 AB#   \n",
       "12      13  5142146134 2010-01-01  5.509006e+12   FEDEX SHP 12/21/09 AB#   \n",
       "13      14  5142124791 2010-01-01  5.725000e+12       CDW*GOVERNMENT INC   \n",
       "14      15  5142151402 2010-01-01  5.725000e+12       CDW*GOVERNMENT INC   \n",
       "15      16  5142148452 2010-01-01  5.509006e+12   FEDEX SHP 12/22/09 AB#   \n",
       "16      17  5142148452 2010-01-01  5.509006e+12   FEDEX SHP 12/28/09 AB#   \n",
       "17      18  5142125684 2010-01-01  5.509006e+12   FEDEX SHP 12/22/09 AB#   \n",
       "18      19  5142139349 2010-01-01  5.509006e+12   FEDEX SHP 12/23/09 AB#   \n",
       "19      20  5142190596 2010-01-01  6.026090e+11           FISHER SCI HUS   \n",
       "\n",
       "   Merch state  Merch zip Transtype  Amount  Fraud Day_of_week  \n",
       "0           TN    38118.0         P    3.62      0      Friday  \n",
       "1           MA     1803.0         P   31.42      0      Friday  \n",
       "2           MD    20706.0         P  178.49      0      Friday  \n",
       "3           TN    38118.0         P    3.62      0      Friday  \n",
       "4           TN    38118.0         P    3.62      0      Friday  \n",
       "5           TN    38118.0         P    3.67      0      Friday  \n",
       "6           TN    38118.0         P    3.62      0      Friday  \n",
       "7           OH    45429.0         P  230.32      0      Friday  \n",
       "8           GA    30091.0         P   62.11      0      Friday  \n",
       "9           TN    38118.0         P    3.62      0      Friday  \n",
       "10          TN    38118.0         P    3.62      0      Friday  \n",
       "11          TN    38118.0         P    3.62      0      Friday  \n",
       "12          TN    38118.0         P    3.85      0      Friday  \n",
       "13          IL    60061.0         P  106.89      0      Friday  \n",
       "14          IL    60061.0         P  137.45      0      Friday  \n",
       "15          TN    38118.0         P    3.74      0      Friday  \n",
       "16          TN    38118.0         P    3.80      0      Friday  \n",
       "17          TN    38118.0         P    3.67      0      Friday  \n",
       "18          TN    38118.0         P    3.67      0      Friday  \n",
       "19          TX    77251.0         P  218.57      0      Friday  "
      ]
     },
     "execution_count": 40,
     "metadata": {},
     "output_type": "execute_result"
    }
   ],
   "source": [
    "#convert 'Date' to day of week and fill that into a newly created column called 'Day_of_week' \n",
    "mydata = copy.deepcopy(df)\n",
    "mydata['Day_of_week'] = mydata['Date'].dt.day_name()\n",
    "mydata.head(20)\n"
   ]
  },
  {
   "cell_type": "code",
   "execution_count": 41,
   "id": "8bb233a4",
   "metadata": {},
   "outputs": [],
   "source": [
    "#take out the last two months data before buidling risk table\n",
    "mydata_10= mydata[mydata['Date'] < '2010-11-01']"
   ]
  },
  {
   "cell_type": "code",
   "execution_count": 42,
   "id": "f8d4bf99",
   "metadata": {},
   "outputs": [
    {
     "data": {
      "text/html": [
       "<div>\n",
       "<style scoped>\n",
       "    .dataframe tbody tr th:only-of-type {\n",
       "        vertical-align: middle;\n",
       "    }\n",
       "\n",
       "    .dataframe tbody tr th {\n",
       "        vertical-align: top;\n",
       "    }\n",
       "\n",
       "    .dataframe thead th {\n",
       "        text-align: right;\n",
       "    }\n",
       "</style>\n",
       "<table border=\"1\" class=\"dataframe\">\n",
       "  <thead>\n",
       "    <tr style=\"text-align: right;\">\n",
       "      <th></th>\n",
       "      <th>Recnum</th>\n",
       "      <th>Cardnum</th>\n",
       "      <th>Date</th>\n",
       "      <th>Merchnum</th>\n",
       "      <th>Merch description</th>\n",
       "      <th>Merch state</th>\n",
       "      <th>Merch zip</th>\n",
       "      <th>Transtype</th>\n",
       "      <th>Amount</th>\n",
       "      <th>Fraud</th>\n",
       "      <th>Day_of_week</th>\n",
       "    </tr>\n",
       "  </thead>\n",
       "  <tbody>\n",
       "    <tr>\n",
       "      <th>0</th>\n",
       "      <td>1</td>\n",
       "      <td>5142190439</td>\n",
       "      <td>2010-01-01</td>\n",
       "      <td>5.509006e+12</td>\n",
       "      <td>FEDEX SHP 12/23/09 AB#</td>\n",
       "      <td>TN</td>\n",
       "      <td>38118.0</td>\n",
       "      <td>P</td>\n",
       "      <td>3.62</td>\n",
       "      <td>0</td>\n",
       "      <td>Friday</td>\n",
       "    </tr>\n",
       "    <tr>\n",
       "      <th>1</th>\n",
       "      <td>2</td>\n",
       "      <td>5142183973</td>\n",
       "      <td>2010-01-01</td>\n",
       "      <td>6.100303e+10</td>\n",
       "      <td>SERVICE MERCHANDISE #81</td>\n",
       "      <td>MA</td>\n",
       "      <td>1803.0</td>\n",
       "      <td>P</td>\n",
       "      <td>31.42</td>\n",
       "      <td>0</td>\n",
       "      <td>Friday</td>\n",
       "    </tr>\n",
       "    <tr>\n",
       "      <th>2</th>\n",
       "      <td>3</td>\n",
       "      <td>5142131721</td>\n",
       "      <td>2010-01-01</td>\n",
       "      <td>4.503083e+12</td>\n",
       "      <td>OFFICE DEPOT #191</td>\n",
       "      <td>MD</td>\n",
       "      <td>20706.0</td>\n",
       "      <td>P</td>\n",
       "      <td>178.49</td>\n",
       "      <td>0</td>\n",
       "      <td>Friday</td>\n",
       "    </tr>\n",
       "    <tr>\n",
       "      <th>3</th>\n",
       "      <td>4</td>\n",
       "      <td>5142148452</td>\n",
       "      <td>2010-01-01</td>\n",
       "      <td>5.509006e+12</td>\n",
       "      <td>FEDEX SHP 12/28/09 AB#</td>\n",
       "      <td>TN</td>\n",
       "      <td>38118.0</td>\n",
       "      <td>P</td>\n",
       "      <td>3.62</td>\n",
       "      <td>0</td>\n",
       "      <td>Friday</td>\n",
       "    </tr>\n",
       "    <tr>\n",
       "      <th>4</th>\n",
       "      <td>5</td>\n",
       "      <td>5142190439</td>\n",
       "      <td>2010-01-01</td>\n",
       "      <td>5.509006e+12</td>\n",
       "      <td>FEDEX SHP 12/23/09 AB#</td>\n",
       "      <td>TN</td>\n",
       "      <td>38118.0</td>\n",
       "      <td>P</td>\n",
       "      <td>3.62</td>\n",
       "      <td>0</td>\n",
       "      <td>Friday</td>\n",
       "    </tr>\n",
       "    <tr>\n",
       "      <th>...</th>\n",
       "      <td>...</td>\n",
       "      <td>...</td>\n",
       "      <td>...</td>\n",
       "      <td>...</td>\n",
       "      <td>...</td>\n",
       "      <td>...</td>\n",
       "      <td>...</td>\n",
       "      <td>...</td>\n",
       "      <td>...</td>\n",
       "      <td>...</td>\n",
       "      <td>...</td>\n",
       "    </tr>\n",
       "    <tr>\n",
       "      <th>84294</th>\n",
       "      <td>84295</td>\n",
       "      <td>5142130739</td>\n",
       "      <td>2010-10-31</td>\n",
       "      <td>9.108348e+12</td>\n",
       "      <td>STAPLES NATIONAL #471</td>\n",
       "      <td>NJ</td>\n",
       "      <td>7606.0</td>\n",
       "      <td>P</td>\n",
       "      <td>299.77</td>\n",
       "      <td>0</td>\n",
       "      <td>Sunday</td>\n",
       "    </tr>\n",
       "    <tr>\n",
       "      <th>84295</th>\n",
       "      <td>84296</td>\n",
       "      <td>5142219772</td>\n",
       "      <td>2010-10-31</td>\n",
       "      <td>6.855293e+12</td>\n",
       "      <td>PRESTIGE OFFICE PRODUCTS</td>\n",
       "      <td>NC</td>\n",
       "      <td>27705.0</td>\n",
       "      <td>P</td>\n",
       "      <td>609.34</td>\n",
       "      <td>0</td>\n",
       "      <td>Sunday</td>\n",
       "    </tr>\n",
       "    <tr>\n",
       "      <th>84296</th>\n",
       "      <td>84297</td>\n",
       "      <td>5142257707</td>\n",
       "      <td>2010-10-31</td>\n",
       "      <td>3.000259e+08</td>\n",
       "      <td>AMERICAN SOCIETY OF AG</td>\n",
       "      <td>WI</td>\n",
       "      <td>53711.0</td>\n",
       "      <td>P</td>\n",
       "      <td>235.00</td>\n",
       "      <td>0</td>\n",
       "      <td>Sunday</td>\n",
       "    </tr>\n",
       "    <tr>\n",
       "      <th>84297</th>\n",
       "      <td>84298</td>\n",
       "      <td>5142168022</td>\n",
       "      <td>2010-10-31</td>\n",
       "      <td>6.079000e+11</td>\n",
       "      <td>MYSTIC LAKE CASINO</td>\n",
       "      <td>MN</td>\n",
       "      <td>55372.0</td>\n",
       "      <td>P</td>\n",
       "      <td>600.00</td>\n",
       "      <td>0</td>\n",
       "      <td>Sunday</td>\n",
       "    </tr>\n",
       "    <tr>\n",
       "      <th>84298</th>\n",
       "      <td>84299</td>\n",
       "      <td>5142137416</td>\n",
       "      <td>2010-10-31</td>\n",
       "      <td>9.108348e+12</td>\n",
       "      <td>STAPLES NATIONAL #471</td>\n",
       "      <td>NJ</td>\n",
       "      <td>7606.0</td>\n",
       "      <td>P</td>\n",
       "      <td>30.00</td>\n",
       "      <td>0</td>\n",
       "      <td>Sunday</td>\n",
       "    </tr>\n",
       "  </tbody>\n",
       "</table>\n",
       "<p>79035 rows × 11 columns</p>\n",
       "</div>"
      ],
      "text/plain": [
       "       Recnum     Cardnum       Date      Merchnum         Merch description  \\\n",
       "0           1  5142190439 2010-01-01  5.509006e+12    FEDEX SHP 12/23/09 AB#   \n",
       "1           2  5142183973 2010-01-01  6.100303e+10   SERVICE MERCHANDISE #81   \n",
       "2           3  5142131721 2010-01-01  4.503083e+12         OFFICE DEPOT #191   \n",
       "3           4  5142148452 2010-01-01  5.509006e+12    FEDEX SHP 12/28/09 AB#   \n",
       "4           5  5142190439 2010-01-01  5.509006e+12    FEDEX SHP 12/23/09 AB#   \n",
       "...       ...         ...        ...           ...                       ...   \n",
       "84294   84295  5142130739 2010-10-31  9.108348e+12     STAPLES NATIONAL #471   \n",
       "84295   84296  5142219772 2010-10-31  6.855293e+12  PRESTIGE OFFICE PRODUCTS   \n",
       "84296   84297  5142257707 2010-10-31  3.000259e+08    AMERICAN SOCIETY OF AG   \n",
       "84297   84298  5142168022 2010-10-31  6.079000e+11        MYSTIC LAKE CASINO   \n",
       "84298   84299  5142137416 2010-10-31  9.108348e+12     STAPLES NATIONAL #471   \n",
       "\n",
       "      Merch state  Merch zip Transtype  Amount  Fraud Day_of_week  \n",
       "0              TN    38118.0         P    3.62      0      Friday  \n",
       "1              MA     1803.0         P   31.42      0      Friday  \n",
       "2              MD    20706.0         P  178.49      0      Friday  \n",
       "3              TN    38118.0         P    3.62      0      Friday  \n",
       "4              TN    38118.0         P    3.62      0      Friday  \n",
       "...           ...        ...       ...     ...    ...         ...  \n",
       "84294          NJ     7606.0         P  299.77      0      Sunday  \n",
       "84295          NC    27705.0         P  609.34      0      Sunday  \n",
       "84296          WI    53711.0         P  235.00      0      Sunday  \n",
       "84297          MN    55372.0         P  600.00      0      Sunday  \n",
       "84298          NJ     7606.0         P   30.00      0      Sunday  \n",
       "\n",
       "[79035 rows x 11 columns]"
      ]
     },
     "execution_count": 42,
     "metadata": {},
     "output_type": "execute_result"
    }
   ],
   "source": [
    "mydata_10"
   ]
  },
  {
   "cell_type": "code",
   "execution_count": 43,
   "id": "1d8205b9",
   "metadata": {},
   "outputs": [
    {
     "name": "stdout",
     "output_type": "stream",
     "text": [
      "<class 'pandas.core.frame.DataFrame'>\n",
      "Index: 79035 entries, 0 to 84298\n",
      "Data columns (total 11 columns):\n",
      " #   Column             Non-Null Count  Dtype         \n",
      "---  ------             --------------  -----         \n",
      " 0   Recnum             79035 non-null  int64         \n",
      " 1   Cardnum            79035 non-null  int64         \n",
      " 2   Date               79035 non-null  datetime64[ns]\n",
      " 3   Merchnum           76214 non-null  float64       \n",
      " 4   Merch description  79035 non-null  object        \n",
      " 5   Merch state        79035 non-null  object        \n",
      " 6   Merch zip          79035 non-null  float64       \n",
      " 7   Transtype          79035 non-null  object        \n",
      " 8   Amount             79035 non-null  float64       \n",
      " 9   Fraud              79035 non-null  int64         \n",
      " 10  Day_of_week        79035 non-null  object        \n",
      "dtypes: datetime64[ns](1), float64(3), int64(3), object(4)\n",
      "memory usage: 7.2+ MB\n"
     ]
    }
   ],
   "source": [
    "mydata_10.info()"
   ]
  },
  {
   "cell_type": "code",
   "execution_count": 44,
   "id": "bb960626",
   "metadata": {},
   "outputs": [
    {
     "data": {
      "text/plain": [
       "Recnum                  0\n",
       "Cardnum                 0\n",
       "Date                    0\n",
       "Merchnum             2821\n",
       "Merch description       0\n",
       "Merch state             0\n",
       "Merch zip               0\n",
       "Transtype               0\n",
       "Amount                  0\n",
       "Fraud                   0\n",
       "Day_of_week             0\n",
       "dtype: int64"
      ]
     },
     "execution_count": 44,
     "metadata": {},
     "output_type": "execute_result"
    }
   ],
   "source": [
    "mydata_10.isnull().sum()"
   ]
  },
  {
   "cell_type": "code",
   "execution_count": 45,
   "id": "9ceffb96",
   "metadata": {},
   "outputs": [
    {
     "name": "stderr",
     "output_type": "stream",
     "text": [
      "C:\\Users\\USER\\AppData\\Local\\Temp\\ipykernel_11048\\109571903.py:1: SettingWithCopyWarning: \n",
      "A value is trying to be set on a copy of a slice from a DataFrame\n",
      "\n",
      "See the caveats in the documentation: https://pandas.pydata.org/pandas-docs/stable/user_guide/indexing.html#returning-a-view-versus-a-copy\n",
      "  mydata_10.dropna(inplace=True)\n"
     ]
    }
   ],
   "source": [
    "mydata_10.dropna(inplace=True)"
   ]
  },
  {
   "cell_type": "code",
   "execution_count": 46,
   "id": "01df3b66",
   "metadata": {},
   "outputs": [
    {
     "data": {
      "text/plain": [
       "Recnum               0\n",
       "Cardnum              0\n",
       "Date                 0\n",
       "Merchnum             0\n",
       "Merch description    0\n",
       "Merch state          0\n",
       "Merch zip            0\n",
       "Transtype            0\n",
       "Amount               0\n",
       "Fraud                0\n",
       "Day_of_week          0\n",
       "dtype: int64"
      ]
     },
     "execution_count": 46,
     "metadata": {},
     "output_type": "execute_result"
    }
   ],
   "source": [
    "mydata_10.isnull().sum()"
   ]
  },
  {
   "cell_type": "code",
   "execution_count": 47,
   "id": "eceb97e1",
   "metadata": {},
   "outputs": [
    {
     "name": "stdout",
     "output_type": "stream",
     "text": [
      "<class 'pandas.core.frame.DataFrame'>\n",
      "Index: 76214 entries, 0 to 84298\n",
      "Data columns (total 11 columns):\n",
      " #   Column             Non-Null Count  Dtype         \n",
      "---  ------             --------------  -----         \n",
      " 0   Recnum             76214 non-null  int64         \n",
      " 1   Cardnum            76214 non-null  int64         \n",
      " 2   Date               76214 non-null  datetime64[ns]\n",
      " 3   Merchnum           76214 non-null  float64       \n",
      " 4   Merch description  76214 non-null  object        \n",
      " 5   Merch state        76214 non-null  object        \n",
      " 6   Merch zip          76214 non-null  float64       \n",
      " 7   Transtype          76214 non-null  object        \n",
      " 8   Amount             76214 non-null  float64       \n",
      " 9   Fraud              76214 non-null  int64         \n",
      " 10  Day_of_week        76214 non-null  object        \n",
      "dtypes: datetime64[ns](1), float64(3), int64(3), object(4)\n",
      "memory usage: 7.0+ MB\n"
     ]
    }
   ],
   "source": [
    "mydata_10.info()"
   ]
  },
  {
   "cell_type": "code",
   "execution_count": 48,
   "id": "5e95a498",
   "metadata": {},
   "outputs": [],
   "source": [
    "mydf = mydata_10[['Cardnum','Merchnum','Amount','Fraud']]"
   ]
  },
  {
   "cell_type": "code",
   "execution_count": 49,
   "id": "c6d9d4f6",
   "metadata": {},
   "outputs": [
    {
     "data": {
      "text/plain": [
       "Cardnum     5.142202e+09\n",
       "Merchnum    3.578799e+12\n",
       "Amount      4.000899e+02\n",
       "Fraud       1.110032e-02\n",
       "dtype: float64"
      ]
     },
     "execution_count": 49,
     "metadata": {},
     "output_type": "execute_result"
    }
   ],
   "source": [
    "mydf.mean()"
   ]
  },
  {
   "cell_type": "code",
   "execution_count": 50,
   "id": "d3e72008",
   "metadata": {},
   "outputs": [
    {
     "data": {
      "text/html": [
       "<div>\n",
       "<style scoped>\n",
       "    .dataframe tbody tr th:only-of-type {\n",
       "        vertical-align: middle;\n",
       "    }\n",
       "\n",
       "    .dataframe tbody tr th {\n",
       "        vertical-align: top;\n",
       "    }\n",
       "\n",
       "    .dataframe thead th {\n",
       "        text-align: right;\n",
       "    }\n",
       "</style>\n",
       "<table border=\"1\" class=\"dataframe\">\n",
       "  <thead>\n",
       "    <tr style=\"text-align: right;\">\n",
       "      <th></th>\n",
       "      <th>Cardnum</th>\n",
       "      <th>Merchnum</th>\n",
       "      <th>Amount</th>\n",
       "      <th>Fraud</th>\n",
       "    </tr>\n",
       "  </thead>\n",
       "  <tbody>\n",
       "    <tr>\n",
       "      <th>0</th>\n",
       "      <td>5142190439</td>\n",
       "      <td>5.509006e+12</td>\n",
       "      <td>3.62</td>\n",
       "      <td>0</td>\n",
       "    </tr>\n",
       "    <tr>\n",
       "      <th>1</th>\n",
       "      <td>5142183973</td>\n",
       "      <td>6.100303e+10</td>\n",
       "      <td>31.42</td>\n",
       "      <td>0</td>\n",
       "    </tr>\n",
       "    <tr>\n",
       "      <th>2</th>\n",
       "      <td>5142131721</td>\n",
       "      <td>4.503083e+12</td>\n",
       "      <td>178.49</td>\n",
       "      <td>0</td>\n",
       "    </tr>\n",
       "    <tr>\n",
       "      <th>3</th>\n",
       "      <td>5142148452</td>\n",
       "      <td>5.509006e+12</td>\n",
       "      <td>3.62</td>\n",
       "      <td>0</td>\n",
       "    </tr>\n",
       "    <tr>\n",
       "      <th>4</th>\n",
       "      <td>5142190439</td>\n",
       "      <td>5.509006e+12</td>\n",
       "      <td>3.62</td>\n",
       "      <td>0</td>\n",
       "    </tr>\n",
       "    <tr>\n",
       "      <th>...</th>\n",
       "      <td>...</td>\n",
       "      <td>...</td>\n",
       "      <td>...</td>\n",
       "      <td>...</td>\n",
       "    </tr>\n",
       "    <tr>\n",
       "      <th>84294</th>\n",
       "      <td>5142130739</td>\n",
       "      <td>9.108348e+12</td>\n",
       "      <td>299.77</td>\n",
       "      <td>0</td>\n",
       "    </tr>\n",
       "    <tr>\n",
       "      <th>84295</th>\n",
       "      <td>5142219772</td>\n",
       "      <td>6.855293e+12</td>\n",
       "      <td>609.34</td>\n",
       "      <td>0</td>\n",
       "    </tr>\n",
       "    <tr>\n",
       "      <th>84296</th>\n",
       "      <td>5142257707</td>\n",
       "      <td>3.000259e+08</td>\n",
       "      <td>235.00</td>\n",
       "      <td>0</td>\n",
       "    </tr>\n",
       "    <tr>\n",
       "      <th>84297</th>\n",
       "      <td>5142168022</td>\n",
       "      <td>6.079000e+11</td>\n",
       "      <td>600.00</td>\n",
       "      <td>0</td>\n",
       "    </tr>\n",
       "    <tr>\n",
       "      <th>84298</th>\n",
       "      <td>5142137416</td>\n",
       "      <td>9.108348e+12</td>\n",
       "      <td>30.00</td>\n",
       "      <td>0</td>\n",
       "    </tr>\n",
       "  </tbody>\n",
       "</table>\n",
       "<p>76214 rows × 4 columns</p>\n",
       "</div>"
      ],
      "text/plain": [
       "          Cardnum      Merchnum  Amount  Fraud\n",
       "0      5142190439  5.509006e+12    3.62      0\n",
       "1      5142183973  6.100303e+10   31.42      0\n",
       "2      5142131721  4.503083e+12  178.49      0\n",
       "3      5142148452  5.509006e+12    3.62      0\n",
       "4      5142190439  5.509006e+12    3.62      0\n",
       "...           ...           ...     ...    ...\n",
       "84294  5142130739  9.108348e+12  299.77      0\n",
       "84295  5142219772  6.855293e+12  609.34      0\n",
       "84296  5142257707  3.000259e+08  235.00      0\n",
       "84297  5142168022  6.079000e+11  600.00      0\n",
       "84298  5142137416  9.108348e+12   30.00      0\n",
       "\n",
       "[76214 rows x 4 columns]"
      ]
     },
     "execution_count": 50,
     "metadata": {},
     "output_type": "execute_result"
    }
   ],
   "source": [
    "mydf"
   ]
  },
  {
   "cell_type": "code",
   "execution_count": 51,
   "id": "3e63c8ac",
   "metadata": {},
   "outputs": [
    {
     "data": {
      "text/plain": [
       "Fraud\n",
       "0    75368\n",
       "1      846\n",
       "Name: count, dtype: int64"
      ]
     },
     "execution_count": 51,
     "metadata": {},
     "output_type": "execute_result"
    }
   ],
   "source": [
    "#distribution of legit transaction and fraudulant\n",
    "\n",
    "mydf['Fraud'].value_counts()"
   ]
  },
  {
   "cell_type": "code",
   "execution_count": 52,
   "id": "ed3b9814",
   "metadata": {},
   "outputs": [],
   "source": [
    "#unbalance dataset\n",
    "\n",
    "#0 for normal transaction \n",
    "\n",
    "#1 for fraudulant transaction"
   ]
  },
  {
   "cell_type": "code",
   "execution_count": 53,
   "id": "122c94c8",
   "metadata": {},
   "outputs": [],
   "source": [
    "#seperating the data for analysis\n",
    "\n",
    "legit = mydf[mydf.Fraud == 0]\n",
    "fraudulant = mydf[mydf.Fraud == 1]"
   ]
  },
  {
   "cell_type": "code",
   "execution_count": 54,
   "id": "838d65df",
   "metadata": {},
   "outputs": [
    {
     "name": "stdout",
     "output_type": "stream",
     "text": [
      "(75368, 4)\n",
      "(846, 4)\n"
     ]
    }
   ],
   "source": [
    "print(legit.shape)\n",
    "print(fraudulant.shape)"
   ]
  },
  {
   "cell_type": "code",
   "execution_count": 55,
   "id": "660a586c",
   "metadata": {},
   "outputs": [],
   "source": [
    "#statistical analysis measures of data"
   ]
  },
  {
   "cell_type": "code",
   "execution_count": 56,
   "id": "09789a83",
   "metadata": {},
   "outputs": [
    {
     "data": {
      "text/plain": [
       "count    75368.000000\n",
       "mean       378.833113\n",
       "std        737.486200\n",
       "min          0.010000\n",
       "25%         30.535000\n",
       "50%        135.000000\n",
       "75%        418.350000\n",
       "max      26910.000000\n",
       "Name: Amount, dtype: float64"
      ]
     },
     "execution_count": 56,
     "metadata": {},
     "output_type": "execute_result"
    }
   ],
   "source": [
    "legit.Amount.describe()"
   ]
  },
  {
   "cell_type": "code",
   "execution_count": 57,
   "id": "96f26806",
   "metadata": {},
   "outputs": [
    {
     "data": {
      "text/plain": [
       "count      846.000000\n",
       "mean      2293.804515\n",
       "std       3037.854218\n",
       "min          0.220000\n",
       "25%        525.325000\n",
       "50%       1242.915000\n",
       "75%       3656.182500\n",
       "max      30372.460000\n",
       "Name: Amount, dtype: float64"
      ]
     },
     "execution_count": 57,
     "metadata": {},
     "output_type": "execute_result"
    }
   ],
   "source": [
    "fraudulant.Amount.describe()"
   ]
  },
  {
   "cell_type": "code",
   "execution_count": 58,
   "id": "ef1752e3",
   "metadata": {},
   "outputs": [],
   "source": [
    "#mean amount of fraudulant data is high rather than legit transactions"
   ]
  },
  {
   "cell_type": "code",
   "execution_count": 59,
   "id": "2a73368b",
   "metadata": {},
   "outputs": [
    {
     "data": {
      "text/html": [
       "<div>\n",
       "<style scoped>\n",
       "    .dataframe tbody tr th:only-of-type {\n",
       "        vertical-align: middle;\n",
       "    }\n",
       "\n",
       "    .dataframe tbody tr th {\n",
       "        vertical-align: top;\n",
       "    }\n",
       "\n",
       "    .dataframe thead th {\n",
       "        text-align: right;\n",
       "    }\n",
       "</style>\n",
       "<table border=\"1\" class=\"dataframe\">\n",
       "  <thead>\n",
       "    <tr style=\"text-align: right;\">\n",
       "      <th></th>\n",
       "      <th>Cardnum</th>\n",
       "      <th>Merchnum</th>\n",
       "      <th>Amount</th>\n",
       "    </tr>\n",
       "    <tr>\n",
       "      <th>Fraud</th>\n",
       "      <th></th>\n",
       "      <th></th>\n",
       "      <th></th>\n",
       "    </tr>\n",
       "  </thead>\n",
       "  <tbody>\n",
       "    <tr>\n",
       "      <th>0</th>\n",
       "      <td>5.142202e+09</td>\n",
       "      <td>3.573356e+12</td>\n",
       "      <td>378.833113</td>\n",
       "    </tr>\n",
       "    <tr>\n",
       "      <th>1</th>\n",
       "      <td>5.142229e+09</td>\n",
       "      <td>4.063663e+12</td>\n",
       "      <td>2293.804515</td>\n",
       "    </tr>\n",
       "  </tbody>\n",
       "</table>\n",
       "</div>"
      ],
      "text/plain": [
       "            Cardnum      Merchnum       Amount\n",
       "Fraud                                         \n",
       "0      5.142202e+09  3.573356e+12   378.833113\n",
       "1      5.142229e+09  4.063663e+12  2293.804515"
      ]
     },
     "execution_count": 59,
     "metadata": {},
     "output_type": "execute_result"
    }
   ],
   "source": [
    "# compare the values for the both transactions \n",
    "\n",
    "mydf.groupby('Fraud').mean()"
   ]
  },
  {
   "cell_type": "markdown",
   "id": "40c19b0a",
   "metadata": {},
   "source": [
    "undersampling \n",
    "\n",
    "build a sample dataset containing similar distribution of normal transaction and fraudulant transaction "
   ]
  },
  {
   "cell_type": "code",
   "execution_count": 60,
   "id": "78acabcd",
   "metadata": {},
   "outputs": [],
   "source": [
    "# Number of Fraudulant transaction is 846 \n",
    "\n",
    "legit_sample = legit.sample(n = 846)"
   ]
  },
  {
   "cell_type": "markdown",
   "id": "aaaae648",
   "metadata": {},
   "source": [
    "Concatinating two Dataframes"
   ]
  },
  {
   "cell_type": "code",
   "execution_count": 61,
   "id": "c52b3f35",
   "metadata": {},
   "outputs": [],
   "source": [
    "new_dataset = pd.concat([legit_sample, fraudulant], axis = 0)"
   ]
  },
  {
   "cell_type": "code",
   "execution_count": 62,
   "id": "56b30047",
   "metadata": {},
   "outputs": [
    {
     "data": {
      "text/html": [
       "<div>\n",
       "<style scoped>\n",
       "    .dataframe tbody tr th:only-of-type {\n",
       "        vertical-align: middle;\n",
       "    }\n",
       "\n",
       "    .dataframe tbody tr th {\n",
       "        vertical-align: top;\n",
       "    }\n",
       "\n",
       "    .dataframe thead th {\n",
       "        text-align: right;\n",
       "    }\n",
       "</style>\n",
       "<table border=\"1\" class=\"dataframe\">\n",
       "  <thead>\n",
       "    <tr style=\"text-align: right;\">\n",
       "      <th></th>\n",
       "      <th>Cardnum</th>\n",
       "      <th>Merchnum</th>\n",
       "      <th>Amount</th>\n",
       "      <th>Fraud</th>\n",
       "    </tr>\n",
       "  </thead>\n",
       "  <tbody>\n",
       "    <tr>\n",
       "      <th>70917</th>\n",
       "      <td>5142194228</td>\n",
       "      <td>4.566124e+11</td>\n",
       "      <td>148.86</td>\n",
       "      <td>0</td>\n",
       "    </tr>\n",
       "    <tr>\n",
       "      <th>73541</th>\n",
       "      <td>5142149691</td>\n",
       "      <td>9.300901e+11</td>\n",
       "      <td>3.62</td>\n",
       "      <td>0</td>\n",
       "    </tr>\n",
       "    <tr>\n",
       "      <th>56926</th>\n",
       "      <td>5142189108</td>\n",
       "      <td>7.615005e+11</td>\n",
       "      <td>50.05</td>\n",
       "      <td>0</td>\n",
       "    </tr>\n",
       "    <tr>\n",
       "      <th>82533</th>\n",
       "      <td>5142144134</td>\n",
       "      <td>6.170020e+09</td>\n",
       "      <td>455.88</td>\n",
       "      <td>0</td>\n",
       "    </tr>\n",
       "    <tr>\n",
       "      <th>9209</th>\n",
       "      <td>5142289869</td>\n",
       "      <td>8.069673e+11</td>\n",
       "      <td>179.95</td>\n",
       "      <td>0</td>\n",
       "    </tr>\n",
       "  </tbody>\n",
       "</table>\n",
       "</div>"
      ],
      "text/plain": [
       "          Cardnum      Merchnum  Amount  Fraud\n",
       "70917  5142194228  4.566124e+11  148.86      0\n",
       "73541  5142149691  9.300901e+11    3.62      0\n",
       "56926  5142189108  7.615005e+11   50.05      0\n",
       "82533  5142144134  6.170020e+09  455.88      0\n",
       "9209   5142289869  8.069673e+11  179.95      0"
      ]
     },
     "execution_count": 62,
     "metadata": {},
     "output_type": "execute_result"
    }
   ],
   "source": [
    "new_dataset.head()"
   ]
  },
  {
   "cell_type": "code",
   "execution_count": 63,
   "id": "238f2699",
   "metadata": {},
   "outputs": [
    {
     "data": {
      "text/html": [
       "<div>\n",
       "<style scoped>\n",
       "    .dataframe tbody tr th:only-of-type {\n",
       "        vertical-align: middle;\n",
       "    }\n",
       "\n",
       "    .dataframe tbody tr th {\n",
       "        vertical-align: top;\n",
       "    }\n",
       "\n",
       "    .dataframe thead th {\n",
       "        text-align: right;\n",
       "    }\n",
       "</style>\n",
       "<table border=\"1\" class=\"dataframe\">\n",
       "  <thead>\n",
       "    <tr style=\"text-align: right;\">\n",
       "      <th></th>\n",
       "      <th>Cardnum</th>\n",
       "      <th>Merchnum</th>\n",
       "      <th>Amount</th>\n",
       "      <th>Fraud</th>\n",
       "    </tr>\n",
       "  </thead>\n",
       "  <tbody>\n",
       "    <tr>\n",
       "      <th>83324</th>\n",
       "      <td>5142152857</td>\n",
       "      <td>9.300901e+11</td>\n",
       "      <td>37.92</td>\n",
       "      <td>1</td>\n",
       "    </tr>\n",
       "    <tr>\n",
       "      <th>83456</th>\n",
       "      <td>5142152857</td>\n",
       "      <td>4.063001e+12</td>\n",
       "      <td>17805.83</td>\n",
       "      <td>1</td>\n",
       "    </tr>\n",
       "    <tr>\n",
       "      <th>83541</th>\n",
       "      <td>5142152857</td>\n",
       "      <td>2.722001e+12</td>\n",
       "      <td>1856.66</td>\n",
       "      <td>1</td>\n",
       "    </tr>\n",
       "    <tr>\n",
       "      <th>83553</th>\n",
       "      <td>5142152857</td>\n",
       "      <td>2.094206e+12</td>\n",
       "      <td>1470.66</td>\n",
       "      <td>1</td>\n",
       "    </tr>\n",
       "    <tr>\n",
       "      <th>83848</th>\n",
       "      <td>5142152857</td>\n",
       "      <td>9.108235e+12</td>\n",
       "      <td>1940.30</td>\n",
       "      <td>1</td>\n",
       "    </tr>\n",
       "  </tbody>\n",
       "</table>\n",
       "</div>"
      ],
      "text/plain": [
       "          Cardnum      Merchnum    Amount  Fraud\n",
       "83324  5142152857  9.300901e+11     37.92      1\n",
       "83456  5142152857  4.063001e+12  17805.83      1\n",
       "83541  5142152857  2.722001e+12   1856.66      1\n",
       "83553  5142152857  2.094206e+12   1470.66      1\n",
       "83848  5142152857  9.108235e+12   1940.30      1"
      ]
     },
     "execution_count": 63,
     "metadata": {},
     "output_type": "execute_result"
    }
   ],
   "source": [
    "new_dataset.tail()"
   ]
  },
  {
   "cell_type": "code",
   "execution_count": 64,
   "id": "6f117201",
   "metadata": {},
   "outputs": [
    {
     "data": {
      "text/plain": [
       "Fraud\n",
       "0    846\n",
       "1    846\n",
       "Name: count, dtype: int64"
      ]
     },
     "execution_count": 64,
     "metadata": {},
     "output_type": "execute_result"
    }
   ],
   "source": [
    "new_dataset['Fraud'].value_counts()"
   ]
  },
  {
   "cell_type": "code",
   "execution_count": 65,
   "id": "f8146c55",
   "metadata": {},
   "outputs": [
    {
     "data": {
      "text/html": [
       "<div>\n",
       "<style scoped>\n",
       "    .dataframe tbody tr th:only-of-type {\n",
       "        vertical-align: middle;\n",
       "    }\n",
       "\n",
       "    .dataframe tbody tr th {\n",
       "        vertical-align: top;\n",
       "    }\n",
       "\n",
       "    .dataframe thead th {\n",
       "        text-align: right;\n",
       "    }\n",
       "</style>\n",
       "<table border=\"1\" class=\"dataframe\">\n",
       "  <thead>\n",
       "    <tr style=\"text-align: right;\">\n",
       "      <th></th>\n",
       "      <th>Cardnum</th>\n",
       "      <th>Merchnum</th>\n",
       "      <th>Amount</th>\n",
       "    </tr>\n",
       "    <tr>\n",
       "      <th>Fraud</th>\n",
       "      <th></th>\n",
       "      <th></th>\n",
       "      <th></th>\n",
       "    </tr>\n",
       "  </thead>\n",
       "  <tbody>\n",
       "    <tr>\n",
       "      <th>0</th>\n",
       "      <td>5.142202e+09</td>\n",
       "      <td>3.673999e+12</td>\n",
       "      <td>389.563629</td>\n",
       "    </tr>\n",
       "    <tr>\n",
       "      <th>1</th>\n",
       "      <td>5.142229e+09</td>\n",
       "      <td>4.063663e+12</td>\n",
       "      <td>2293.804515</td>\n",
       "    </tr>\n",
       "  </tbody>\n",
       "</table>\n",
       "</div>"
      ],
      "text/plain": [
       "            Cardnum      Merchnum       Amount\n",
       "Fraud                                         \n",
       "0      5.142202e+09  3.673999e+12   389.563629\n",
       "1      5.142229e+09  4.063663e+12  2293.804515"
      ]
     },
     "execution_count": 65,
     "metadata": {},
     "output_type": "execute_result"
    }
   ],
   "source": [
    "new_dataset.groupby('Fraud').mean()"
   ]
  },
  {
   "cell_type": "markdown",
   "id": "ade50f0b",
   "metadata": {},
   "source": [
    "Spliting the data into Features& Target"
   ]
  },
  {
   "cell_type": "code",
   "execution_count": 66,
   "id": "43a7a960",
   "metadata": {},
   "outputs": [],
   "source": [
    "X = new_dataset.drop(columns = 'Fraud', axis = 1)\n",
    "\n",
    "Y = new_dataset['Fraud']"
   ]
  },
  {
   "cell_type": "code",
   "execution_count": 67,
   "id": "96175656",
   "metadata": {},
   "outputs": [
    {
     "name": "stdout",
     "output_type": "stream",
     "text": [
      "          Cardnum      Merchnum    Amount\n",
      "70917  5142194228  4.566124e+11    148.86\n",
      "73541  5142149691  9.300901e+11      3.62\n",
      "56926  5142189108  7.615005e+11     50.05\n",
      "82533  5142144134  6.170020e+09    455.88\n",
      "9209   5142289869  8.069673e+11    179.95\n",
      "...           ...           ...       ...\n",
      "83324  5142152857  9.300901e+11     37.92\n",
      "83456  5142152857  4.063001e+12  17805.83\n",
      "83541  5142152857  2.722001e+12   1856.66\n",
      "83553  5142152857  2.094206e+12   1470.66\n",
      "83848  5142152857  9.108235e+12   1940.30\n",
      "\n",
      "[1692 rows x 3 columns]\n"
     ]
    }
   ],
   "source": [
    "print(X)"
   ]
  },
  {
   "cell_type": "code",
   "execution_count": 68,
   "id": "3b8254fd",
   "metadata": {},
   "outputs": [
    {
     "name": "stdout",
     "output_type": "stream",
     "text": [
      "70917    0\n",
      "73541    0\n",
      "56926    0\n",
      "82533    0\n",
      "9209     0\n",
      "        ..\n",
      "83324    1\n",
      "83456    1\n",
      "83541    1\n",
      "83553    1\n",
      "83848    1\n",
      "Name: Fraud, Length: 1692, dtype: int64\n"
     ]
    }
   ],
   "source": [
    "print(Y)"
   ]
  },
  {
   "cell_type": "markdown",
   "id": "6522accb",
   "metadata": {},
   "source": [
    "Split data into Training Data & Testing Data "
   ]
  },
  {
   "cell_type": "code",
   "execution_count": 69,
   "id": "0ab8e6b1",
   "metadata": {},
   "outputs": [],
   "source": [
    "X_train, X_test, Y_train, Y_test = train_test_split(X, Y, test_size = 0.2, stratify =Y, random_state=2 )"
   ]
  },
  {
   "cell_type": "code",
   "execution_count": 70,
   "id": "8fd4fc04",
   "metadata": {},
   "outputs": [
    {
     "name": "stdout",
     "output_type": "stream",
     "text": [
      "(1692, 3) (1353, 3) (339, 3)\n"
     ]
    }
   ],
   "source": [
    "print(X.shape,X_train.shape,X_test.shape)"
   ]
  },
  {
   "cell_type": "code",
   "execution_count": 71,
   "id": "a050b788",
   "metadata": {},
   "outputs": [
    {
     "data": {
      "text/html": [
       "<style>#sk-container-id-1 {color: black;background-color: white;}#sk-container-id-1 pre{padding: 0;}#sk-container-id-1 div.sk-toggleable {background-color: white;}#sk-container-id-1 label.sk-toggleable__label {cursor: pointer;display: block;width: 100%;margin-bottom: 0;padding: 0.3em;box-sizing: border-box;text-align: center;}#sk-container-id-1 label.sk-toggleable__label-arrow:before {content: \"▸\";float: left;margin-right: 0.25em;color: #696969;}#sk-container-id-1 label.sk-toggleable__label-arrow:hover:before {color: black;}#sk-container-id-1 div.sk-estimator:hover label.sk-toggleable__label-arrow:before {color: black;}#sk-container-id-1 div.sk-toggleable__content {max-height: 0;max-width: 0;overflow: hidden;text-align: left;background-color: #f0f8ff;}#sk-container-id-1 div.sk-toggleable__content pre {margin: 0.2em;color: black;border-radius: 0.25em;background-color: #f0f8ff;}#sk-container-id-1 input.sk-toggleable__control:checked~div.sk-toggleable__content {max-height: 200px;max-width: 100%;overflow: auto;}#sk-container-id-1 input.sk-toggleable__control:checked~label.sk-toggleable__label-arrow:before {content: \"▾\";}#sk-container-id-1 div.sk-estimator input.sk-toggleable__control:checked~label.sk-toggleable__label {background-color: #d4ebff;}#sk-container-id-1 div.sk-label input.sk-toggleable__control:checked~label.sk-toggleable__label {background-color: #d4ebff;}#sk-container-id-1 input.sk-hidden--visually {border: 0;clip: rect(1px 1px 1px 1px);clip: rect(1px, 1px, 1px, 1px);height: 1px;margin: -1px;overflow: hidden;padding: 0;position: absolute;width: 1px;}#sk-container-id-1 div.sk-estimator {font-family: monospace;background-color: #f0f8ff;border: 1px dotted black;border-radius: 0.25em;box-sizing: border-box;margin-bottom: 0.5em;}#sk-container-id-1 div.sk-estimator:hover {background-color: #d4ebff;}#sk-container-id-1 div.sk-parallel-item::after {content: \"\";width: 100%;border-bottom: 1px solid gray;flex-grow: 1;}#sk-container-id-1 div.sk-label:hover label.sk-toggleable__label {background-color: #d4ebff;}#sk-container-id-1 div.sk-serial::before {content: \"\";position: absolute;border-left: 1px solid gray;box-sizing: border-box;top: 0;bottom: 0;left: 50%;z-index: 0;}#sk-container-id-1 div.sk-serial {display: flex;flex-direction: column;align-items: center;background-color: white;padding-right: 0.2em;padding-left: 0.2em;position: relative;}#sk-container-id-1 div.sk-item {position: relative;z-index: 1;}#sk-container-id-1 div.sk-parallel {display: flex;align-items: stretch;justify-content: center;background-color: white;position: relative;}#sk-container-id-1 div.sk-item::before, #sk-container-id-1 div.sk-parallel-item::before {content: \"\";position: absolute;border-left: 1px solid gray;box-sizing: border-box;top: 0;bottom: 0;left: 50%;z-index: -1;}#sk-container-id-1 div.sk-parallel-item {display: flex;flex-direction: column;z-index: 1;position: relative;background-color: white;}#sk-container-id-1 div.sk-parallel-item:first-child::after {align-self: flex-end;width: 50%;}#sk-container-id-1 div.sk-parallel-item:last-child::after {align-self: flex-start;width: 50%;}#sk-container-id-1 div.sk-parallel-item:only-child::after {width: 0;}#sk-container-id-1 div.sk-dashed-wrapped {border: 1px dashed gray;margin: 0 0.4em 0.5em 0.4em;box-sizing: border-box;padding-bottom: 0.4em;background-color: white;}#sk-container-id-1 div.sk-label label {font-family: monospace;font-weight: bold;display: inline-block;line-height: 1.2em;}#sk-container-id-1 div.sk-label-container {text-align: center;}#sk-container-id-1 div.sk-container {/* jupyter's `normalize.less` sets `[hidden] { display: none; }` but bootstrap.min.css set `[hidden] { display: none !important; }` so we also need the `!important` here to be able to override the default hidden behavior on the sphinx rendered scikit-learn.org. See: https://github.com/scikit-learn/scikit-learn/issues/21755 */display: inline-block !important;position: relative;}#sk-container-id-1 div.sk-text-repr-fallback {display: none;}</style><div id=\"sk-container-id-1\" class=\"sk-top-container\"><div class=\"sk-text-repr-fallback\"><pre>LinearRegression()</pre><b>In a Jupyter environment, please rerun this cell to show the HTML representation or trust the notebook. <br />On GitHub, the HTML representation is unable to render, please try loading this page with nbviewer.org.</b></div><div class=\"sk-container\" hidden><div class=\"sk-item\"><div class=\"sk-estimator sk-toggleable\"><input class=\"sk-toggleable__control sk-hidden--visually\" id=\"sk-estimator-id-1\" type=\"checkbox\" checked><label for=\"sk-estimator-id-1\" class=\"sk-toggleable__label sk-toggleable__label-arrow\">LinearRegression</label><div class=\"sk-toggleable__content\"><pre>LinearRegression()</pre></div></div></div></div></div>"
      ],
      "text/plain": [
       "LinearRegression()"
      ]
     },
     "execution_count": 71,
     "metadata": {},
     "output_type": "execute_result"
    }
   ],
   "source": [
    "# Step 1: Fit a Regression Model\n",
    "regression_model = LinearRegression()\n",
    "regression_model.fit(X_train, Y_train)"
   ]
  },
  {
   "cell_type": "code",
   "execution_count": 72,
   "id": "b696ce84",
   "metadata": {},
   "outputs": [],
   "source": [
    "# Step 2: Calculate Residuals\n",
    "y_pred = regression_model.predict(X_train)\n",
    "residuals = Y_train - y_pred\n"
   ]
  },
  {
   "cell_type": "code",
   "execution_count": 73,
   "id": "f40decf0",
   "metadata": {},
   "outputs": [],
   "source": [
    "# Step 3: Calculate R^2 Score\n",
    "r2 = r2_score(Y_train, y_pred)\n"
   ]
  },
  {
   "cell_type": "code",
   "execution_count": 74,
   "id": "e86beb5c",
   "metadata": {},
   "outputs": [],
   "source": [
    "# Step 4: Identify Outliers\n",
    "outlier_indices = (abs(residuals) > 0.2)\n"
   ]
  },
  {
   "cell_type": "code",
   "execution_count": 75,
   "id": "b14b4318",
   "metadata": {},
   "outputs": [],
   "source": [
    "# Step 5: Remove or Adjust Outliers (Example: Removing outliers)\n",
    "X_train_cleaned = X_train[~outlier_indices]\n",
    "y_train_cleaned = Y_train[~outlier_indices]\n"
   ]
  },
  {
   "cell_type": "code",
   "execution_count": 76,
   "id": "8419323d",
   "metadata": {},
   "outputs": [],
   "source": [
    "# Make Predictions\n",
    "y_pred = regression_model.predict(X_test)\n"
   ]
  },
  {
   "cell_type": "code",
   "execution_count": 77,
   "id": "b0ebc440",
   "metadata": {},
   "outputs": [
    {
     "name": "stdout",
     "output_type": "stream",
     "text": [
      "Root Mean Squared Error (RMSE): 0.4471915141343788\n"
     ]
    }
   ],
   "source": [
    "from sklearn.metrics import mean_squared_error\n",
    "#Evaluate Model Performance\n",
    "mse = mean_squared_error(Y_test, y_pred)\n",
    "rmse = np.sqrt(mse)\n",
    "print(\"Root Mean Squared Error (RMSE):\", rmse)"
   ]
  },
  {
   "cell_type": "code",
   "execution_count": 78,
   "id": "7c7b76cb",
   "metadata": {},
   "outputs": [],
   "source": [
    "#by using Decion Tree"
   ]
  },
  {
   "cell_type": "code",
   "execution_count": 79,
   "id": "20641f84",
   "metadata": {},
   "outputs": [
    {
     "name": "stdout",
     "output_type": "stream",
     "text": [
      "Root Mean Squared Error (RMSE): 0.3583189216013559\n"
     ]
    }
   ],
   "source": [
    "from sklearn.model_selection import train_test_split\n",
    "from sklearn.tree import DecisionTreeRegressor\n",
    "\n",
    "# Step 1: Import Libraries\n",
    "\n",
    "# Step 2: Prepare Data (Assuming you have X and y ready)\n",
    "\n",
    "# Step 3: Split Data\n",
    "X_train, X_test, Y_train, Y_test = train_test_split(X, Y, test_size=0.2, random_state=42)\n",
    "\n",
    "# Step 4: Instantiate Model\n",
    "model = DecisionTreeRegressor(max_depth=5)  # You can adjust hyperparameters as needed\n",
    "\n",
    "# Step 5: Train Model\n",
    "model.fit(X_train, Y_train)\n",
    "\n",
    "# Step 6: Make Predictions\n",
    "y_pred = model.predict(X_test)\n",
    "\n",
    "# Evaluate Model Performance\n",
    "mse = mean_squared_error(Y_test, y_pred)\n",
    "rmse = np.sqrt(mse)\n",
    "print(\"Root Mean Squared Error (RMSE):\", rmse)\n"
   ]
  },
  {
   "cell_type": "code",
   "execution_count": 80,
   "id": "2199ae96",
   "metadata": {},
   "outputs": [
    {
     "data": {
      "text/html": [
       "<style>#sk-container-id-2 {color: black;background-color: white;}#sk-container-id-2 pre{padding: 0;}#sk-container-id-2 div.sk-toggleable {background-color: white;}#sk-container-id-2 label.sk-toggleable__label {cursor: pointer;display: block;width: 100%;margin-bottom: 0;padding: 0.3em;box-sizing: border-box;text-align: center;}#sk-container-id-2 label.sk-toggleable__label-arrow:before {content: \"▸\";float: left;margin-right: 0.25em;color: #696969;}#sk-container-id-2 label.sk-toggleable__label-arrow:hover:before {color: black;}#sk-container-id-2 div.sk-estimator:hover label.sk-toggleable__label-arrow:before {color: black;}#sk-container-id-2 div.sk-toggleable__content {max-height: 0;max-width: 0;overflow: hidden;text-align: left;background-color: #f0f8ff;}#sk-container-id-2 div.sk-toggleable__content pre {margin: 0.2em;color: black;border-radius: 0.25em;background-color: #f0f8ff;}#sk-container-id-2 input.sk-toggleable__control:checked~div.sk-toggleable__content {max-height: 200px;max-width: 100%;overflow: auto;}#sk-container-id-2 input.sk-toggleable__control:checked~label.sk-toggleable__label-arrow:before {content: \"▾\";}#sk-container-id-2 div.sk-estimator input.sk-toggleable__control:checked~label.sk-toggleable__label {background-color: #d4ebff;}#sk-container-id-2 div.sk-label input.sk-toggleable__control:checked~label.sk-toggleable__label {background-color: #d4ebff;}#sk-container-id-2 input.sk-hidden--visually {border: 0;clip: rect(1px 1px 1px 1px);clip: rect(1px, 1px, 1px, 1px);height: 1px;margin: -1px;overflow: hidden;padding: 0;position: absolute;width: 1px;}#sk-container-id-2 div.sk-estimator {font-family: monospace;background-color: #f0f8ff;border: 1px dotted black;border-radius: 0.25em;box-sizing: border-box;margin-bottom: 0.5em;}#sk-container-id-2 div.sk-estimator:hover {background-color: #d4ebff;}#sk-container-id-2 div.sk-parallel-item::after {content: \"\";width: 100%;border-bottom: 1px solid gray;flex-grow: 1;}#sk-container-id-2 div.sk-label:hover label.sk-toggleable__label {background-color: #d4ebff;}#sk-container-id-2 div.sk-serial::before {content: \"\";position: absolute;border-left: 1px solid gray;box-sizing: border-box;top: 0;bottom: 0;left: 50%;z-index: 0;}#sk-container-id-2 div.sk-serial {display: flex;flex-direction: column;align-items: center;background-color: white;padding-right: 0.2em;padding-left: 0.2em;position: relative;}#sk-container-id-2 div.sk-item {position: relative;z-index: 1;}#sk-container-id-2 div.sk-parallel {display: flex;align-items: stretch;justify-content: center;background-color: white;position: relative;}#sk-container-id-2 div.sk-item::before, #sk-container-id-2 div.sk-parallel-item::before {content: \"\";position: absolute;border-left: 1px solid gray;box-sizing: border-box;top: 0;bottom: 0;left: 50%;z-index: -1;}#sk-container-id-2 div.sk-parallel-item {display: flex;flex-direction: column;z-index: 1;position: relative;background-color: white;}#sk-container-id-2 div.sk-parallel-item:first-child::after {align-self: flex-end;width: 50%;}#sk-container-id-2 div.sk-parallel-item:last-child::after {align-self: flex-start;width: 50%;}#sk-container-id-2 div.sk-parallel-item:only-child::after {width: 0;}#sk-container-id-2 div.sk-dashed-wrapped {border: 1px dashed gray;margin: 0 0.4em 0.5em 0.4em;box-sizing: border-box;padding-bottom: 0.4em;background-color: white;}#sk-container-id-2 div.sk-label label {font-family: monospace;font-weight: bold;display: inline-block;line-height: 1.2em;}#sk-container-id-2 div.sk-label-container {text-align: center;}#sk-container-id-2 div.sk-container {/* jupyter's `normalize.less` sets `[hidden] { display: none; }` but bootstrap.min.css set `[hidden] { display: none !important; }` so we also need the `!important` here to be able to override the default hidden behavior on the sphinx rendered scikit-learn.org. See: https://github.com/scikit-learn/scikit-learn/issues/21755 */display: inline-block !important;position: relative;}#sk-container-id-2 div.sk-text-repr-fallback {display: none;}</style><div id=\"sk-container-id-2\" class=\"sk-top-container\"><div class=\"sk-text-repr-fallback\"><pre>RandomForestRegressor()</pre><b>In a Jupyter environment, please rerun this cell to show the HTML representation or trust the notebook. <br />On GitHub, the HTML representation is unable to render, please try loading this page with nbviewer.org.</b></div><div class=\"sk-container\" hidden><div class=\"sk-item\"><div class=\"sk-estimator sk-toggleable\"><input class=\"sk-toggleable__control sk-hidden--visually\" id=\"sk-estimator-id-2\" type=\"checkbox\" checked><label for=\"sk-estimator-id-2\" class=\"sk-toggleable__label sk-toggleable__label-arrow\">RandomForestRegressor</label><div class=\"sk-toggleable__content\"><pre>RandomForestRegressor()</pre></div></div></div></div></div>"
      ],
      "text/plain": [
       "RandomForestRegressor()"
      ]
     },
     "execution_count": 80,
     "metadata": {},
     "output_type": "execute_result"
    }
   ],
   "source": [
    " #RandomForestRegressor\n",
    "random_forest_model = RandomForestRegressor()\n",
    "random_forest_model.fit(X_train, Y_train)"
   ]
  },
  {
   "cell_type": "code",
   "execution_count": 81,
   "id": "21d6cfd3",
   "metadata": {},
   "outputs": [],
   "source": [
    "y_pred_random_forest = random_forest_model.predict(X_test)"
   ]
  },
  {
   "cell_type": "code",
   "execution_count": 82,
   "id": "a28df4df",
   "metadata": {},
   "outputs": [],
   "source": [
    "rmse_random_forest = np.sqrt(mean_squared_error(Y_test, y_pred_random_forest))"
   ]
  },
  {
   "cell_type": "code",
   "execution_count": 83,
   "id": "e3e2b97f",
   "metadata": {},
   "outputs": [
    {
     "name": "stdout",
     "output_type": "stream",
     "text": [
      "RMSE - RandomForestRegressor: 0.23023138290753548\n"
     ]
    }
   ],
   "source": [
    "print(\"RMSE - RandomForestRegressor:\", rmse_random_forest)"
   ]
  },
  {
   "cell_type": "code",
   "execution_count": 84,
   "id": "b92c3607",
   "metadata": {},
   "outputs": [],
   "source": [
    "# Setting up the plotting environment, previous code gave errors so below step was included\n",
    "%matplotlib inline\n"
   ]
  },
  {
   "cell_type": "code",
   "execution_count": 85,
   "id": "b7bea26e",
   "metadata": {},
   "outputs": [
    {
     "data": {
      "image/png": "[encoded data removed]",
      "text/plain": [
       "<Figure size 640x480 with 1 Axes>"
      ]
     },
     "metadata": {},
     "output_type": "display_data"
    }
   ],
   "source": [
    "# Step 5: Plotting the comparison of 2 models\n",
    "models = ['Linear Regression', 'RandomForestRegressor']\n",
    "rmse_values = [rmse, rmse_random_forest]\n",
    "\n",
    "pt.bar(models, rmse_values, color=['blue', 'green'])\n",
    "pt.title('RMSE Comparison of Regression Models')\n",
    "pt.xlabel('Models')\n",
    "pt.ylabel('RMSE')\n",
    "pt.show()"
   ]
  },
  {
   "cell_type": "code",
   "execution_count": 86,
   "id": "3a2d3e34",
   "metadata": {},
   "outputs": [],
   "source": [
    "# Lower RMSE indicates better model performance.\n"
   ]
  },
  {
   "cell_type": "code",
   "execution_count": 87,
   "id": "436d2177",
   "metadata": {},
   "outputs": [],
   "source": [
    "# Hyper parameter tuning\n",
    "# Explanation:\n",
    "# Hyperparameter tuning is essential to find optimal set of parameters for a model,\n",
    "# leading to better performance.\n",
    "# GridSearchCV is used to systematically search through a predefined grid of hyperparameters.\n",
    "# The chosen metric for tuning is negative mean squared error (neg_mean_squared_error).\n",
    "# Lenear regression model isn't tuned because its simple and nothing much to tune.\n",
    "# The final step evaluates the tuned models on the test set and displays their RMSE."
   ]
  },
  {
   "cell_type": "code",
   "execution_count": 88,
   "id": "69309be5",
   "metadata": {},
   "outputs": [],
   "source": [
    "from sklearn.model_selection import GridSearchCV\n",
    "from sklearn.preprocessing import StandardScaler\n",
    "from sklearn.pipeline import Pipeline\n",
    "\n",
    "\n",
    "# Steps for hyper tuning\n",
    "# Step 1: Splitting the data into training and testing sets\n",
    "X = new_dataset.drop('Fraud', axis=1)  # Features\n",
    "Y = new_dataset['Fraud']  # Target variable\n",
    "\n",
    "X_train, X_test, Y_train, Y_test = train_test_split(X, Y, test_size=0.2, random_state=2)\n",
    "\n",
    "# Step 2: Hyperparameter Tuning for Linear Regression\n",
    "# No hyperparameters to tune for Linear Regression, as it's a simple model\n",
    "\n",
    "\n"
   ]
  },
  {
   "cell_type": "code",
   "execution_count": 89,
   "id": "64d9c366",
   "metadata": {},
   "outputs": [],
   "source": [
    "#Hyperparameter Tuning for Random Forest\n",
    "random_forest_model = RandomForestRegressor()\n",
    "\n",
    "# Define the parameter grid to search\n",
    "param_grid_random_forest = {\n",
    "    'n_estimators': [50, 100, 150],\n",
    "    'max_depth': [None, 10, 20],\n",
    "    'min_samples_split': [2, 5, 10]\n",
    "}\n",
    "\n",
    "# Use GridSearchCV for hyperparameter tuning\n",
    "grid_search_random_forest = GridSearchCV(random_forest_model, param_grid=param_grid_random_forest, scoring='neg_mean_squared_error', cv=5)\n",
    "grid_search_random_forest.fit(X_train, Y_train)\n",
    "\n",
    "# Get the best hyperparameters and the best model\n",
    "best_params_random_forest = grid_search_random_forest.best_params_\n",
    "best_model_random_forest = grid_search_random_forest.best_estimator_"
   ]
  },
  {
   "cell_type": "code",
   "execution_count": 90,
   "id": "63984b9b",
   "metadata": {},
   "outputs": [
    {
     "name": "stdout",
     "output_type": "stream",
     "text": [
      "RMSE - Linear Regression: 0.4648021406848591\n",
      "RMSE - Random Forest (Tuned): 0.25529149283257435\n"
     ]
    }
   ],
   "source": [
    "# Evaluate the Tuned Models on the Test Set\n",
    "# Linear Regression\n",
    "linear_model = LinearRegression()\n",
    "linear_model.fit(X_train, Y_train)\n",
    "y_pred_linear = linear_model.predict(X_test)\n",
    "rmse_linear = np.sqrt(mean_squared_error(Y_test, y_pred_linear))\n",
    "\n",
    "\n",
    "# Random Forest\n",
    "y_pred_random_forest = best_model_random_forest.predict(X_test)\n",
    "rmse_random_forest = np.sqrt(mean_squared_error(Y_test, y_pred_random_forest))\n",
    "\n",
    "# Display RMSE for Tuned Models\n",
    "print(\"RMSE - Linear Regression:\", rmse_linear)\n",
    "print(\"RMSE - Random Forest (Tuned):\", rmse_random_forest)"
   ]
  },
  {
   "cell_type": "code",
   "execution_count": 91,
   "id": "3e5a53d2",
   "metadata": {},
   "outputs": [
    {
     "data": {
      "image/png": "[encoded data removed]",
      "text/plain": [
       "<Figure size 800x500 with 1 Axes>"
      ]
     },
     "metadata": {},
     "output_type": "display_data"
    }
   ],
   "source": [
    "#Displaying the Best Tuned Models on a Graph\n",
    "models = ['Linear Regression', 'Random Forest']\n",
    "rmse_values_tuned = [rmse_linear, rmse_random_forest]\n",
    "\n",
    "pt.figure(figsize=(8, 5))\n",
    "bars_tuned = pt.bar(models, rmse_values_tuned, color=['blue', 'green'])\n",
    "\n",
    "# Add labels to bars\n",
    "for bar, label in zip(bars_tuned, rmse_values_tuned):\n",
    "    pt.text(bar.get_x() + bar.get_width() / 2 - 0.1, bar.get_height() + 0.005, round(label, 4), ha='center', color='black')\n",
    "\n",
    "pt.title('RMSE Comparison of Tuned Regression Models')\n",
    "pt.xlabel('Models')\n",
    "pt.ylabel('RMSE')\n",
    "pt.show()"
   ]
  },
  {
   "cell_type": "code",
   "execution_count": 92,
   "id": "3b0e7c47",
   "metadata": {},
   "outputs": [],
   "source": [
    "import pickle"
   ]
  },
  {
   "cell_type": "code",
   "execution_count": 93,
   "id": "926eb36e",
   "metadata": {},
   "outputs": [],
   "source": [
    "with open('model_pickle.pkl','wb') as f:\n",
    "    pickle.dump(linear_model ,f)"
   ]
  },
  {
   "cell_type": "code",
   "execution_count": 94,
   "id": "91fb9ef4",
   "metadata": {},
   "outputs": [],
   "source": [
    "with open('model_pickle','rb') as f:\n",
    "    mp = pickle.load(f)"
   ]
  },
  {
   "cell_type": "code",
   "execution_count": 95,
   "id": "84316be5",
   "metadata": {},
   "outputs": [],
   "source": [
    "with open('random_pickle.pkl','wb') as f:\n",
    "    pickle.dump(random_forest_model,f)\n"
   ]
  },
  {
   "cell_type": "code",
   "execution_count": 96,
   "id": "e73942c6",
   "metadata": {},
   "outputs": [],
   "source": [
    "with open('random_pickle', 'rb') as f:\n",
    "    rp = pickle.load(f)"
   ]
  },
  {
   "cell_type": "code",
   "execution_count": 97,
   "id": "649e48b0",
   "metadata": {},
   "outputs": [
    {
     "data": {
      "text/plain": [
       "0.4597125125384979"
      ]
     },
     "execution_count": 97,
     "metadata": {},
     "output_type": "execute_result"
    }
   ],
   "source": [
    "mp"
   ]
  },
  {
   "cell_type": "code",
   "execution_count": 98,
   "id": "ffbc325d",
   "metadata": {},
   "outputs": [
    {
     "data": {
      "text/plain": [
       "0.23529834489158905"
      ]
     },
     "execution_count": 98,
     "metadata": {},
     "output_type": "execute_result"
    }
   ],
   "source": [
    "rp"
   ]
  },
  {
   "cell_type": "code",
   "execution_count": null,
   "id": "229a09fd",
   "metadata": {},
   "outputs": [],
   "source": []
  },
  {
   "cell_type": "code",
   "execution_count": null,
   "id": "db0acdec",
   "metadata": {},
   "outputs": [],
   "source": []
  }
 ],
 "metadata": {
  "kernelspec": {
   "display_name": "Python 3 (ipykernel)",
   "language": "python",
   "name": "python3"
  },
  "language_info": {
   "codemirror_mode": {
    "name": "ipython",
    "version": 3
   },
   "file_extension": ".py",
   "mimetype": "text/x-python",
   "name": "python",
   "nbconvert_exporter": "python",
   "pygments_lexer": "ipython3",
   "version": "3.10.9"
  }
 },
 "nbformat": 4,
 "nbformat_minor": 5
}
